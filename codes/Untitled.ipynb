{
 "cells": [
  {
   "cell_type": "code",
   "execution_count": 1,
   "metadata": {},
   "outputs": [],
   "source": [
    "import nidaqmx\n",
    "from nidaqmx.constants import TerminalConfiguration"
   ]
  },
  {
   "cell_type": "code",
   "execution_count": 2,
   "metadata": {},
   "outputs": [],
   "source": [
    "task=nidaqmx.Task()"
   ]
  },
  {
   "cell_type": "code",
   "execution_count": 3,
   "metadata": {},
   "outputs": [
    {
     "data": {
      "text/plain": [
       "AIChannel(name=Dev1/ai1)"
      ]
     },
     "execution_count": 3,
     "metadata": {},
     "output_type": "execute_result"
    }
   ],
   "source": [
    "task.ai_channels.add_ai_voltage_chan(\"Dev1/ai0\", terminal_config = TerminalConfiguration.RSE)\n",
    "task.ai_channels.add_ai_voltage_chan(\"Dev1/ai1\", terminal_config = TerminalConfiguration.RSE)\n"
   ]
  },
  {
   "cell_type": "code",
   "execution_count": 4,
   "metadata": {},
   "outputs": [
    {
     "name": "stdout",
     "output_type": "stream",
     "text": [
      "[4.919170048567996, 0.0005265037200927469]\n"
     ]
    }
   ],
   "source": [
    "task.start()\n",
    "value=task.read()\n",
    "print(value)"
   ]
  },
  {
   "cell_type": "code",
   "execution_count": 5,
   "metadata": {},
   "outputs": [],
   "source": [
    "task.stop()\n",
    "task.close()"
   ]
  },
  {
   "cell_type": "code",
   "execution_count": null,
   "metadata": {},
   "outputs": [],
   "source": []
  },
  {
   "cell_type": "code",
   "execution_count": 1,
   "metadata": {},
   "outputs": [
    {
     "ename": "ImportError",
     "evalue": "attempted relative import with no known parent package",
     "output_type": "error",
     "traceback": [
      "\u001b[1;31m---------------------------------------------------------------------------\u001b[0m",
      "\u001b[1;31mModuleNotFoundError\u001b[0m                       Traceback (most recent call last)",
      "\u001b[1;32m<ipython-input-1-5112fca80986>\u001b[0m in \u001b[0;36m<module>\u001b[1;34m\u001b[0m\n\u001b[0;32m      7\u001b[0m \u001b[1;32mtry\u001b[0m\u001b[1;33m:\u001b[0m\u001b[1;33m\u001b[0m\u001b[1;33m\u001b[0m\u001b[0m\n\u001b[1;32m----> 8\u001b[1;33m     \u001b[1;32mfrom\u001b[0m \u001b[0mconsole_examples_util\u001b[0m \u001b[1;32mimport\u001b[0m \u001b[0mconfig_first_detected_device\u001b[0m\u001b[1;33m\u001b[0m\u001b[1;33m\u001b[0m\u001b[0m\n\u001b[0m\u001b[0;32m      9\u001b[0m \u001b[1;32mexcept\u001b[0m \u001b[0mImportError\u001b[0m\u001b[1;33m:\u001b[0m\u001b[1;33m\u001b[0m\u001b[1;33m\u001b[0m\u001b[0m\n",
      "\u001b[1;31mModuleNotFoundError\u001b[0m: No module named 'console_examples_util'",
      "\nDuring handling of the above exception, another exception occurred:\n",
      "\u001b[1;31mImportError\u001b[0m                               Traceback (most recent call last)",
      "\u001b[1;32m<ipython-input-1-5112fca80986>\u001b[0m in \u001b[0;36m<module>\u001b[1;34m\u001b[0m\n\u001b[0;32m      8\u001b[0m     \u001b[1;32mfrom\u001b[0m \u001b[0mconsole_examples_util\u001b[0m \u001b[1;32mimport\u001b[0m \u001b[0mconfig_first_detected_device\u001b[0m\u001b[1;33m\u001b[0m\u001b[1;33m\u001b[0m\u001b[0m\n\u001b[0;32m      9\u001b[0m \u001b[1;32mexcept\u001b[0m \u001b[0mImportError\u001b[0m\u001b[1;33m:\u001b[0m\u001b[1;33m\u001b[0m\u001b[1;33m\u001b[0m\u001b[0m\n\u001b[1;32m---> 10\u001b[1;33m     \u001b[1;32mfrom\u001b[0m \u001b[1;33m.\u001b[0m\u001b[0mconsole_examples_util\u001b[0m \u001b[1;32mimport\u001b[0m \u001b[0mconfig_first_detected_device\u001b[0m\u001b[1;33m\u001b[0m\u001b[1;33m\u001b[0m\u001b[0m\n\u001b[0m\u001b[0;32m     11\u001b[0m \u001b[1;33m\u001b[0m\u001b[0m\n\u001b[0;32m     12\u001b[0m \u001b[1;33m\u001b[0m\u001b[0m\n",
      "\u001b[1;31mImportError\u001b[0m: attempted relative import with no known parent package"
     ]
    }
   ],
   "source": [
    "\n",
    "from __future__ import absolute_import, division, print_function\n",
    "from builtins import *  # @UnusedWildImport\n",
    "\n",
    "from mcculw import ul\n",
    "from mcculw.device_info import DaqDeviceInfo\n",
    "\n",
    "try:\n",
    "    from console_examples_util import config_first_detected_device\n",
    "except ImportError:\n",
    "    from .console_examples_util import config_first_detected_device\n",
    "\n",
    "\n",
    "def run_example():\n",
    "    # By default, the example detects and displays all available devices and\n",
    "    # selects the first device listed. Use the dev_id_list variable to filter\n",
    "    # detected devices by device ID (see UL documentation for device IDs).\n",
    "    # If use_device_detection is set to False, the board_num variable needs to\n",
    "    # match the desired board number configured with Instacal.\n",
    "    use_device_detection = True\n",
    "    dev_id_list = []\n",
    "    board_num = 0\n",
    "\n",
    "    try:\n",
    "        if use_device_detection:\n",
    "            config_first_detected_device(board_num, dev_id_list)\n",
    "\n",
    "        daq_dev_info = DaqDeviceInfo(board_num)\n",
    "        if not daq_dev_info.supports_analog_input:\n",
    "            raise Exception('Error: The DAQ device does not support '\n",
    "                            'analog input')\n",
    "\n",
    "        print('\\nActive DAQ device: ', daq_dev_info.product_name, ' (',\n",
    "              daq_dev_info.unique_id, ')\\n', sep='')\n",
    "\n",
    "        ai_info = daq_dev_info.get_ai_info()\n",
    "        ai_range = ai_info.supported_ranges[0]\n",
    "        channel = 0\n",
    "\n",
    "        # Get a value from the device\n",
    "        if ai_info.resolution <= 16:\n",
    "            # Use the v_in method for devices with a resolution <= 16\n",
    "            # (optional parameter omitted)\n",
    "            value = ul.v_in(board_num, channel, ai_range)\n",
    "        else:\n",
    "            # Use the v_in_32 method for devices with a resolution > 16\n",
    "            # (optional parameter omitted)\n",
    "            value = ul.v_in_32(board_num, channel, ai_range)\n",
    "\n",
    "        # Display the value\n",
    "        print('Value:', value)\n",
    "    except Exception as e:\n",
    "        print('\\n', e)\n",
    "    finally:\n",
    "        if use_device_detection:\n",
    "            ul.release_daq_device(board_num)\n",
    "\n",
    "\n",
    "if __name__ == '__main__':\n",
    "    run_example()\n"
   ]
  },
  {
   "cell_type": "code",
   "execution_count": null,
   "metadata": {},
   "outputs": [],
   "source": []
  },
  {
   "cell_type": "code",
   "execution_count": null,
   "metadata": {},
   "outputs": [],
   "source": []
  },
  {
   "cell_type": "code",
   "execution_count": null,
   "metadata": {},
   "outputs": [],
   "source": []
  }
 ],
 "metadata": {
  "kernelspec": {
   "display_name": "Python 3",
   "language": "python",
   "name": "python3"
  },
  "language_info": {
   "codemirror_mode": {
    "name": "ipython",
    "version": 3
   },
   "file_extension": ".py",
   "mimetype": "text/x-python",
   "name": "python",
   "nbconvert_exporter": "python",
   "pygments_lexer": "ipython3",
   "version": "3.8.5"
  }
 },
 "nbformat": 4,
 "nbformat_minor": 4
}
