{
 "cells": [
  {
   "cell_type": "code",
   "execution_count": 1,
   "metadata": {},
   "outputs": [],
   "source": [
    "import numpy as np\n",
    "import matplotlib.pyplot as plt\n",
    "%matplotlib inline\n",
    "plt.style.use(['ggplot'])"
   ]
  },
  {
   "cell_type": "code",
   "execution_count": 3,
   "metadata": {},
   "outputs": [],
   "source": [
    "X = 2 * np.random.rand(100,1)\n",
    "y = 4 +3 * X+np.random.randn(100,1)"
   ]
  },
  {
   "cell_type": "code",
   "execution_count": 4,
   "metadata": {},
   "outputs": [
    {
     "data": {
      "image/png": "[encoded data removed]",
      "text/plain": [
       "<Figure size 432x288 with 1 Axes>"
      ]
     },
     "metadata": {
      "needs_background": "light"
     },
     "output_type": "display_data"
    }
   ],
   "source": [
    "plt.plot(X,y,'b.')\n",
    "plt.xlabel(\"$x$\", fontsize=18)\n",
    "plt.ylabel(\"$y$\", rotation=0, fontsize=18)\n",
    "_ =plt.axis([0,2,0,15])"
   ]
  },
  {
   "cell_type": "markdown",
   "metadata": {},
   "source": [
    "Minimos cuadrados\n",
    "\n",
    "$\\Large{y=mx+b}$\n",
    "\n",
    "$\\Large{m= \\frac{N \\sum_{i=1}^{N} {x_iy_i}- \\sum_{i=1}^{N}{y_i} \\sum_{i=1}^{N}{x_i}}{N \\sum_{i=1}^{N}{x_i^2} - (\\sum_{i=1}^{N}{x_i})^2}}$\n",
    "\n",
    "$\\Large{b=   \\frac{\\sum_{i=1}^{N}{y_i} \\sum_{i=1}^{N}{x_i^2}- \\sum_{i=1}^{N} {x_iy_i}\\sum_{i=1}^{N}{x_i}} {N \\sum_{i=1}^{N}{x_i^2}-(\\sum_{i=1}^{N}{x_i})^2  }}$\n"
   ]
  },
  {
   "cell_type": "code",
   "execution_count": 18,
   "metadata": {},
   "outputs": [
    {
     "name": "stdout",
     "output_type": "stream",
     "text": [
      "[[2.54619325]] [[4.71071744]]\n"
     ]
    }
   ],
   "source": [
    "N=len(X)\n",
    "sumxy=np.dot(np.transpose(X),y)\n",
    "sumy=np.sum(y)\n",
    "sumx=np.sum(X)\n",
    "sumx2=sumx**2\n",
    "sumxx=np.sum(X**2)\n",
    "m= (N*sumxy - sumy*sumx)/(N*sumxx- sumx2)\n",
    "b=(sumy*sumxx-sumxy*sumx)/(N*sumxx- sumx2)\n",
    "print(m,b)"
   ]
  },
  {
   "cell_type": "code",
   "execution_count": null,
   "metadata": {},
   "outputs": [],
   "source": []
  }
 ],
 "metadata": {
  "kernelspec": {
   "display_name": "Python 3",
   "language": "python",
   "name": "python3"
  },
  "language_info": {
   "codemirror_mode": {
    "name": "ipython",
    "version": 3
   },
   "file_extension": ".py",
   "mimetype": "text/x-python",
   "name": "python",
   "nbconvert_exporter": "python",
   "pygments_lexer": "ipython3",
   "version": "3.7.4"
  }
 },
 "nbformat": 4,
 "nbformat_minor": 4
}
