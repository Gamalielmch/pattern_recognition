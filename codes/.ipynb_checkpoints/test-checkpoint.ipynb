{
 "cells": [
  {
   "cell_type": "code",
   "execution_count": 15,
   "metadata": {},
   "outputs": [
    {
     "ename": "SyntaxError",
     "evalue": "invalid syntax (<ipython-input-15-72ace5b0287e>, line 42)",
     "output_type": "error",
     "traceback": [
      "\u001b[1;36m  File \u001b[1;32m\"<ipython-input-15-72ace5b0287e>\"\u001b[1;36m, line \u001b[1;32m42\u001b[0m\n\u001b[1;33m    print lin_reg2.get_feature_names()\u001b[0m\n\u001b[1;37m          ^\u001b[0m\n\u001b[1;31mSyntaxError\u001b[0m\u001b[1;31m:\u001b[0m invalid syntax\n"
     ]
    }
   ],
   "source": [
    "import numpy as np\n",
    "import matplotlib.pyplot as plt\n",
    "import pandas as pd\n",
    "  \n",
    "dataset = pd.read_csv('Position_Salaries.csv')\n",
    "dataset\n",
    " \n",
    "X = dataset.iloc[:,1:2].values  \n",
    "y = dataset.iloc[:,2].values\n",
    " \n",
    "# fitting the linear regression model\n",
    "from sklearn.linear_model import LinearRegression\n",
    "lin_reg = LinearRegression()\n",
    "lin_reg.fit(X,y)\n",
    " \n",
    "# visualising the linear regression model\n",
    "plt.scatter(X,y, color='red')\n",
    "plt.plot(X, lin_reg.predict(X),color='blue')\n",
    "plt.title(\"Truth or Bluff(Linear)\")\n",
    "plt.xlabel('Position level')\n",
    "plt.ylabel('Salary')\n",
    "plt.show()\n",
    " \n",
    "# polynomial regression model\n",
    "from sklearn.preprocessing import PolynomialFeatures\n",
    "poly_reg = PolynomialFeatures(degree=2)\n",
    "X_poly = poly_reg.fit_transform(X)\n",
    "  \n",
    "X_poly     # prints X_poly\n",
    " \n",
    "lin_reg2 = LinearRegression()\n",
    "lin_reg2.fit(X_poly,y)\n",
    " \n",
    " \n",
    "# visualising polynomial regression\n",
    "from sklearn.preprocessing import PolynomialFeatures\n",
    "poly_reg = PolynomialFeatures(degree=2)\n",
    "X_poly = poly_reg.fit_transform(X)\n",
    "lin_reg2 = LinearRegression()\n",
    "\n",
    "\n",
    "X_grid = np.arange(min(X),max(X),0.1)\n",
    "X_grid = X_grid.reshape(len(X_grid),1) \n",
    "plt.scatter(X,y, color='red')  \n",
    "plt.plot(X_grid, lin_reg2.predict(poly_reg.fit_transform(X_grid)),color='blue') \n",
    "  \n",
    "plt.title(\"Truth or Bluff(Polynomial)\")\n",
    "plt.xlabel('Position level')\n",
    "plt.ylabel('Salary')\n",
    "plt.show()"
   ]
  },
  {
   "cell_type": "code",
   "execution_count": 12,
   "metadata": {},
   "outputs": [
    {
     "data": {
      "text/plain": [
       "PolynomialFeatures()"
      ]
     },
     "execution_count": 12,
     "metadata": {},
     "output_type": "execute_result"
    }
   ],
   "source": [
    "data = pd.DataFrame.from_dict({\n",
    "    'x': np.random.randint(low=1, high=10, size=5),\n",
    "    'y': np.random.randint(low=-1, high=1, size=5),\n",
    "})\n",
    "p = PolynomialFeatures(degree=2).fit(data)\n",
    "p\n",
    "\n"
   ]
  },
  {
   "cell_type": "code",
   "execution_count": null,
   "metadata": {},
   "outputs": [],
   "source": []
  }
 ],
 "metadata": {
  "kernelspec": {
   "display_name": "Python 3",
   "language": "python",
   "name": "python3"
  },
  "language_info": {
   "codemirror_mode": {
    "name": "ipython",
    "version": 3
   },
   "file_extension": ".py",
   "mimetype": "text/x-python",
   "name": "python",
   "nbconvert_exporter": "python",
   "pygments_lexer": "ipython3",
   "version": "3.8.5"
  }
 },
 "nbformat": 4,
 "nbformat_minor": 4
}
