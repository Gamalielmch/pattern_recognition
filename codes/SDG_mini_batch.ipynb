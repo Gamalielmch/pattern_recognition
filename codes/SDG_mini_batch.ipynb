{
 "cells": [
  {
   "cell_type": "code",
   "execution_count": 15,
   "metadata": {},
   "outputs": [],
   "source": [
    "import numpy as np\n",
    "import matplotlib.pyplot as plt\n",
    "from mpl_toolkits.mplot3d import Axes3D\n",
    "# from matplotlib import cm\n",
    "from matplotlib import ticker, cm\n",
    "import mpl_toolkits.axes_grid1 as ag\n",
    "import pandas as pd\n",
    "from sklearn.metrics import r2_score\n",
    "import sys\n",
    "%matplotlib inline"
   ]
  },
  {
   "cell_type": "code",
   "execution_count": 16,
   "metadata": {},
   "outputs": [],
   "source": [
    "def zscore(X,flag):\n",
    "    #flag=1 for ones vector\n",
    "    ini=0\n",
    "    if flag: \n",
    "        X = np.c_[np.ones((len(X),1)),X]\n",
    "        ini=1\n",
    "    nf,nc=X.shape\n",
    "    for it in range(ini,nc):\n",
    "        m=np.mean(X[:,it])\n",
    "        std=np.std(X[:,it])\n",
    "        X[:,it]=(X[:,it]-m)/std\n",
    "        \n",
    "    return X   "
   ]
  },
  {
   "cell_type": "code",
   "execution_count": 17,
   "metadata": {},
   "outputs": [
    {
     "data": {
      "text/plain": [
       "Text(0, 0.5, 'poverty rate')"
      ]
     },
     "execution_count": 17,
     "metadata": {},
     "output_type": "execute_result"
    },
    {
     "data": {
      "image/png": "[encoded data removed]",
      "text/plain": [
       "<Figure size 432x288 with 1 Axes>"
      ]
     },
     "metadata": {
      "needs_background": "light"
     },
     "output_type": "display_data"
    }
   ],
   "source": [
    "df = pd.read_csv('poverty.csv')\n",
    "X = df[['Brth15to17']]\n",
    "X = X.to_numpy()\n",
    "y = df['PovPct']\n",
    "y = y.to_numpy()\n",
    "plt.plot(X,y,'b.')\n",
    "plt.xlabel(\"birth rate per 1000 females 15-17 years\", fontsize=8)\n",
    "plt.ylabel(\"poverty rate\", rotation=90, fontsize=18)\n",
    "\n",
    "#multivariable \n",
    "# X = df[['Brth15to17', 'Brth18to19']]\n",
    "# X = X.to_numpy()\n",
    "# y = df['PovPct']\n",
    "# y = y.to_numpy()\n",
    "# fig = plt.figure()\n",
    "# ax = fig.add_subplot(111, projection='3d')\n",
    "# ax.scatter(X[:,0], X[:,1], y, c='r', marker='o')\n",
    "# ax.set_xlabel(' birth rate per 1000 females 15-17 years',fontsize=8)\n",
    "# ax.set_ylabel(' birth rate per 1000 females 18-19 years',fontsize=8)\n",
    "# ax.set_zlabel('poverty rate',fontsize=12)\n"
   ]
  },
  {
   "cell_type": "code",
   "execution_count": 18,
   "metadata": {},
   "outputs": [
    {
     "name": "stdout",
     "output_type": "stream",
     "text": [
      "(51, 2)\n",
      "theta_0=12.436121 theta_1= 2.952633\n"
     ]
    }
   ],
   "source": [
    "%matplotlib qt\n",
    "X = df[['Brth15to17']]\n",
    "X = X.to_numpy()\n",
    "y = df['PovPct']\n",
    "y = y.to_numpy()\n",
    "X=zscore(X,1)\n",
    "MB=1\n",
    "N=len(y)\n",
    "theta = np.random.randn(2,1)\n",
    "ep=1e-6\n",
    "lr =1e-3\n",
    "n_iter =3000\n",
    "j_cost= np.zeros([n_iter])\n",
    "y=y.reshape((len(y), 1))\n",
    "print(X.shape)\n",
    "cost =0.0\n",
    "j_cost= np.zeros([n_iter])\n",
    "for it in range(n_iter):\n",
    "    #Gradient\n",
    "    cost =0.0\n",
    "    for i in range(N):\n",
    "        rand_ind = np.random.randint(0,N,MB)\n",
    "        X_i = X[rand_ind,:].reshape(MB,X.shape[1])\n",
    "        y_i = y[rand_ind].reshape(MB,1)\n",
    "        pred = np.dot(X_i,theta)\n",
    "        h=pred - y_i\n",
    "        theta = theta -(1/N)*lr*( X_i.T.dot((h)))\n",
    "        cost +=(1/2*N)*np.sum(np.square(h))\n",
    "    j_cost[it]=cost\n",
    "\n",
    "    \n",
    "print(\"theta_0=%f theta_1= %f\" %(theta[0],theta[1]) )\n",
    "fig = plt.figure()\n",
    "plt.plot(j_cost)\n",
    "plt.show()\n",
    "\n",
    "# theta_0=12.894598 theta_1= 3.023298\n",
    "# theta_0=13.098372 theta_1= 3.095889"
   ]
  },
  {
   "cell_type": "code",
   "execution_count": 12,
   "metadata": {},
   "outputs": [
    {
     "name": "stdout",
     "output_type": "stream",
     "text": [
      "-1.7807515947356547\n"
     ]
    },
    {
     "data": {
      "text/plain": [
       "Text(0, 0.5, '$y$')"
      ]
     },
     "execution_count": 12,
     "metadata": {},
     "output_type": "execute_result"
    }
   ],
   "source": [
    "mini=np.min(X[:,1])\n",
    "maxi=np.max(X[:,1])\n",
    "print(mini)\n",
    "X_new = np.array([[mini],[maxi]])\n",
    "X_new_b = np.c_[np.ones((2,1)),X_new]\n",
    "y_predict = X_new_b.dot(theta)\n",
    "plt.plot(X_new,y_predict,'r-')\n",
    "plt.plot(X[:,1],y,'b.')\n",
    "plt.xlabel(\"$x_1$\", fontsize=18)\n",
    "plt.ylabel(\"$y$\", rotation=0, fontsize=18)\n"
   ]
  },
  {
   "cell_type": "code",
   "execution_count": 13,
   "metadata": {},
   "outputs": [
    {
     "name": "stdout",
     "output_type": "stream",
     "text": [
      "(1000, 1000)\n"
     ]
    }
   ],
   "source": [
    "%matplotlib qt\n",
    "theta_0=np.linspace(-10,50,1000)\n",
    "theta_1=np.linspace(-6,6,1000)\n",
    "error=np.zeros((len(theta_0),len(theta_1)))\n",
    "print(error.shape)\n",
    "for i in range (len(theta_0)):\n",
    "    for j in range (len(theta_1)):\n",
    "        theta_t=[theta_0[i],theta_1[j]]\n",
    "        pred = np.dot(X,theta_t)\n",
    "        h=(pred - y)\n",
    "        error[i,j]=np.sum(np.square(h))\n",
    "tx, ty = np.meshgrid(theta_0, theta_1)  "
   ]
  },
  {
   "cell_type": "code",
   "execution_count": 14,
   "metadata": {},
   "outputs": [],
   "source": [
    "mini=np.round(np.min(error))\n",
    "maxi=np.round(np.max(error))\n",
    "levels = np.logspace(-10, 1, 40, endpoint=True)\n",
    "levels=(levels/10)*(maxi-mini)+mini\n",
    "# levels = np.logspace(mini, maxi, 30, endpoint=True)\n",
    "           \n",
    "fig = plt.figure();\n",
    "h = plt.contour(tx, ty,  error, levels=levels)\n",
    "# levels=[1e-3, 1e-2, 1e-1, 1e0]\n",
    "# ax.clabel(h, inline=True, fontsize=10, manual=levels)\n",
    "plt.colorbar()\n",
    "plt.plot(44,-5.18,'ro')\n",
    "X = df[['Brth15to17']]\n",
    "X = X.to_numpy()\n",
    "y = df['PovPct']\n",
    "y = y.to_numpy()\n",
    "X=zscore(X,1)\n",
    "MB=1\n",
    "N=len(y)\n",
    "theta = np.array([44,-5.18]).reshape(2,1)\n",
    "ep=1e-6\n",
    "lr =1e-3\n",
    "n_iter =1000\n",
    "j_cost= np.zeros([n_iter])\n",
    "y=y.reshape((len(y), 1))\n",
    "cost =0.0\n",
    "j_cost= np.zeros([n_iter])\n",
    "theta_p=theta\n",
    "for it in range(n_iter):\n",
    "    #Gradient\n",
    "    cost =0.0\n",
    "    for i in range(N):\n",
    "        rand_ind = np.random.randint(0,N,MB)\n",
    "        X_i = X[rand_ind,:].reshape(MB,X.shape[1])\n",
    "        y_i = y[rand_ind].reshape(MB,1)\n",
    "        pred = np.dot(X_i,theta)\n",
    "        h=pred - y_i\n",
    "        theta = theta -(1/N)*lr*( X_i.T.dot((h)))\n",
    "        cost +=(1/2*N)*np.sum(np.square(h))\n",
    "    j_cost[it]=cost\n",
    "    plt.plot([theta_p[0],theta[0]],[theta_p[1],theta[1]],'r-')\n",
    "    \n",
    "plt.show()\n",
    "\n",
    "\n",
    "\n",
    "\n",
    "# figg = plt.figure();\n",
    "# ax = figg.gca(projection='3d');\n",
    "# ax.plot_surface(tx, ty,  error, cmap=cm.coolwarm,linewidth=0, antialiased=False);\n",
    "# plt.show()"
   ]
  },
  {
   "cell_type": "code",
   "execution_count": null,
   "metadata": {},
   "outputs": [],
   "source": []
  }
 ],
 "metadata": {
  "kernelspec": {
   "display_name": "Python 3",
   "language": "python",
   "name": "python3"
  },
  "language_info": {
   "codemirror_mode": {
    "name": "ipython",
    "version": 3
   },
   "file_extension": ".py",
   "mimetype": "text/x-python",
   "name": "python",
   "nbconvert_exporter": "python",
   "pygments_lexer": "ipython3",
   "version": "3.8.5"
  }
 },
 "nbformat": 4,
 "nbformat_minor": 4
}
