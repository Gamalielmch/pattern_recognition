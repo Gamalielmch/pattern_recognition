{
 "cells": [
  {
   "cell_type": "code",
   "execution_count": 20,
   "metadata": {},
   "outputs": [],
   "source": [
    "import pandas\n",
    "import numpy as np\n",
    "from sklearn import linear_model"
   ]
  },
  {
   "cell_type": "code",
   "execution_count": 52,
   "metadata": {},
   "outputs": [
    {
     "name": "stdout",
     "output_type": "stream",
     "text": [
      "[0.00755095 0.00780526]\n",
      "79.69471929115939\n",
      "0     -5.534775\n",
      "1      2.820127\n",
      "2     -0.485193\n",
      "3      3.251020\n",
      "4     -4.989315\n",
      "5    -10.485193\n",
      "6      8.996080\n",
      "7      9.709649\n",
      "8      1.799259\n",
      "9      1.866721\n",
      "10    -3.319569\n",
      "11    -3.683008\n",
      "12    -3.103370\n",
      "13     7.636917\n",
      "14     5.195687\n",
      "15     5.225891\n",
      "16     3.490174\n",
      "17     2.531498\n",
      "18    -3.367359\n",
      "19     0.332892\n",
      "20    10.143832\n",
      "21     7.087987\n",
      "22     7.392803\n",
      "23     3.867722\n",
      "24     6.989825\n",
      "25     0.464743\n",
      "26     2.556146\n",
      "27    -5.669382\n",
      "28    -5.316776\n",
      "29    -5.820401\n",
      "30    -6.794970\n",
      "31    -8.510812\n",
      "32    -2.491449\n",
      "33    -5.321052\n",
      "34    -6.207788\n",
      "35   -10.258565\n",
      "Name: CO2, dtype: float64\n"
     ]
    }
   ],
   "source": [
    "df = pandas.read_csv(\"cars.csv\")\n",
    "X = df[['Weight', 'Volume']]\n",
    "y = df['CO2']\n",
    "regr = linear_model.LinearRegression()\n",
    "regr.fit(X, y)\n",
    "print(regr.coef_)\n",
    "print(regr.intercept_)\n",
    "\n",
    "x = X.to_numpy()\n",
    "x1=x[:,0]\n",
    "predictedCO2=np.zeros([len(x1)])\n",
    "\n",
    "for i in range(len(x1)):\n",
    "    predictedCO2[i] = regr.predict([[x[i,0], x[i,1]]])\n",
    "\n",
    "h=predictedCO2-y\n",
    "print(h)\n",
    "# print(79.69471929115939+2300*0.00755095+1300*0.00780526)\n",
    "# print(102.027778+2300*1.802693 +1300*2.993586)\n",
    "# print(np.c_[X,y])"
   ]
  },
  {
   "cell_type": "code",
   "execution_count": null,
   "metadata": {},
   "outputs": [],
   "source": []
  }
 ],
 "metadata": {
  "kernelspec": {
   "display_name": "Python 3",
   "language": "python",
   "name": "python3"
  },
  "language_info": {
   "codemirror_mode": {
    "name": "ipython",
    "version": 3
   },
   "file_extension": ".py",
   "mimetype": "text/x-python",
   "name": "python",
   "nbconvert_exporter": "python",
   "pygments_lexer": "ipython3",
   "version": "3.8.5"
  }
 },
 "nbformat": 4,
 "nbformat_minor": 4
}
