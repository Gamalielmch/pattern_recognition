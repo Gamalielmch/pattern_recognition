{
 "cells": [
  {
   "cell_type": "code",
   "execution_count": 1,
   "metadata": {},
   "outputs": [],
   "source": [
    "import numpy as np\n",
    "from numpy import linalg as LA\n",
    "import matplotlib.pyplot as plt\n",
    "from mpl_toolkits.mplot3d import Axes3D\n",
    "from matplotlib import cm\n",
    "import pandas as pd\n",
    "from sklearn.metrics import mean_squared_error\n",
    "%matplotlib inline\n",
    "# %matplotlib qt"
   ]
  },
  {
   "cell_type": "code",
   "execution_count": 2,
   "metadata": {},
   "outputs": [
    {
     "name": "stdout",
     "output_type": "stream",
     "text": [
      "30\n"
     ]
    },
    {
     "data": {
      "image/png": "[encoded data removed]",
      "text/plain": [
       "<Figure size 432x288 with 1 Axes>"
      ]
     },
     "metadata": {
      "needs_background": "light"
     },
     "output_type": "display_data"
    }
   ],
   "source": [
    "dataset = pd.read_csv('Dataset/Salary_Data.csv')\n",
    "x = dataset.iloc[:, 0].values #Feature matrix\n",
    "y = dataset.iloc[:, 1].values #Label Matrix \n",
    "plt.scatter(x,y,color='black')\n",
    "plt.xlabel(\"Years of Experience\", fontsize=12);\n",
    "plt.ylabel(\"Salary\", rotation=90, fontsize=12);\n",
    "print(len(x))"
   ]
  },
  {
   "cell_type": "markdown",
   "metadata": {},
   "source": [
    "# Minimos cuadrados\n",
    "## Solución analítica univariable\n",
    "modelo\n",
    "$\\Large{y=mx+b}$\n",
    "\n",
    "función de error\n",
    "$ \\varepsilon (m,b)=\\sum_{i=1}^{N} (y-mx-b)^2 $\n",
    "\n",
    "$\\Large{m= \\frac{N \\sum_{i=1}^{N} {x_iy_i}- \\sum_{i=1}^{N}{y_i} \\sum_{i=1}^{N}{x_i}}{N \\sum_{i=1}^{N}{x_i^2} - (\\sum_{i=1}^{N}{x_i})^2}}$\n",
    "\n",
    "$\\Large{b=   \\frac{\\sum_{i=1}^{N}{y_i} \\sum_{i=1}^{N}{x_i^2}- \\sum_{i=1}^{N} {x_iy_i}\\sum_{i=1}^{N}{x_i}} {N \\sum_{i=1}^{N}{x_i^2}-(\\sum_{i=1}^{N}{x_i})^2  }}$\n"
   ]
  },
  {
   "cell_type": "code",
   "execution_count": 3,
   "metadata": {},
   "outputs": [
    {
     "name": "stdout",
     "output_type": "stream",
     "text": [
      "30\n",
      "8000 25792.20019866868\n",
      "RMS = 10343.696534\n"
     ]
    },
    {
     "data": {
      "image/png": "[encoded data removed]",
      "text/plain": [
       "<Figure size 432x288 with 1 Axes>"
      ]
     },
     "metadata": {
      "needs_background": "light"
     },
     "output_type": "display_data"
    }
   ],
   "source": [
    "#parameter estimation\n",
    "N=len(x)\n",
    "print(len(x))\n",
    "sumxy=np.sum(x*y)\n",
    "sumy=np.sum(y)\n",
    "sumx=np.sum(x)\n",
    "sumx2=sumx**2\n",
    "sumxx=np.sum(x**2)\n",
    "m= (N*sumxy - sumy*sumx)/(N*sumxx- sumx2)\n",
    "b=(sumy*sumxx-sumxy*sumx)/(N*sumxx- sumx2)\n",
    "\n",
    "\n",
    "#plot \n",
    "m=8000\n",
    "x_p=np.array([np.min(x),np.max(x)])\n",
    "y_p=m*x_p+b\n",
    "plt.plot(x_p,y_p,'r-')\n",
    "plt.plot(x,y,'b.')\n",
    "plt.xlabel(\"Years of Experience\", fontsize=12);\n",
    "plt.ylabel(\"Salary\", rotation=90, fontsize=12);\n",
    "plt.title('model: m=%f,'  %m +' b=%f'  %b)\n",
    "print(m,b)\n",
    "#RMS\n",
    "rms = mean_squared_error(y,m*x+b , squared=False)\n",
    "print(\"RMS = %f\" %rms)"
   ]
  },
  {
   "cell_type": "markdown",
   "metadata": {},
   "source": [
    "## Función objetivo por gradiente descendente clásico\n",
    "\n",
    "\n",
    "- Ejemplo de hipótesis: regresión lineal \n",
    "\\begin{equation*}\n",
    "y=h(\\mathbf{x} \\boldsymbol{\\theta})= h_{\\boldsymbol{\\theta}}(\\mathbf{x})= \\theta_0+\\theta_1x_1+\\cdots + \\theta_n x_n\n",
    "\\end{equation*}\n",
    "\n",
    "\n",
    "- Convención para simplificar notación: $x_0={1}$\n",
    "\\begin{equation*}\n",
    "y=h(\\mathbf{x}; \\boldsymbol{\\theta})= h_{\\boldsymbol{\\theta}}(\\mathbf{x})= \\theta_0x_0+\\theta_1x_1+\\cdots + \\theta_n x_n=\\sum_{i=0}^{n}{\\theta_{i}x_{i}}\n",
    "\\end{equation*} \n",
    "\\begin{equation*}\n",
    "=\\boldsymbol{\\theta}^T  \\mathbf{x}= \\langle \\boldsymbol{\\theta},  \\mathbf{x} \\rangle= \\boldsymbol{\\theta} \\cdot{}  \\mathbf{x}\n",
    "\\end{equation*}\n",
    "\\begin{equation*}\n",
    "\\boldsymbol{\\theta} = [\\theta_{0},\\theta_{1}, \\ldots ,\\theta_{n}]^T\n",
    "\\end{equation*}  \n",
    "\\begin{equation*}\n",
    "\\boldsymbol{x} = [x_{0},x_{1}, \\ldots ,x_{n}]^T\n",
    "\\end{equation*}  \n",
    "\n",
    "\n",
    "- Para encontrar $\\boldsymbol{\\theta}$ minimizamos la función de error $J(\\boldsymbol{\\theta})$ con \n",
    "\\begin{equation*}\n",
    "J(\\boldsymbol{\\theta}) = \\frac{1}{2} \\sum_{i=1}^{m} ( h_{\\boldsymbol{\\theta}}(\\mathbf{x}^{(i)})- y^{(i)} )^2\n",
    "\\end{equation*}\n",
    "\n",
    "\\begin{equation*}\n",
    " \\boldsymbol{\\theta}^{*}= \\arg\\min_{\\boldsymbol{\\theta}} \\boldsymbol{\\theta}\n",
    "\\end{equation*}\n",
    "Objetivo:\n",
    "Se buscan parámetros $\\boldsymbol{\\theta}$ que producen el menor valor de $\\boldsymbol{\\theta}$\n",
    "\n",
    "- Para el caso de dos parametros una caraterística\n",
    "\\begin{equation*}\n",
    "J(\\theta_0,\\theta_1) = \\frac{1}{2}  \\sum_{i=1}^{m}  ( \\theta_0+\\theta_1 x_{1}^{(i)} - y^{(i)} )^2\n",
    "\\end{equation*}  \n",
    "\n",
    "### Algoritmo de gradiente descendente  \n",
    "\n",
    "1.- Tome un valor $\\boldsymbol{\\theta}^{(0)}$ inicial, t=0\n",
    "\n",
    "2.- Calcule en   $\\boldsymbol{\\theta}^{(t)}$ el gradiente (máxima dirección de cambio)\n",
    "\\begin{equation*}\n",
    "\\nabla_{\\boldsymbol{\\theta}}  J(\\boldsymbol{\\theta}^{(t)})= \\left[ \\frac{\\partial J}{\\partial \\theta_{0}}  \\frac{\\partial J}{\\partial \\theta_{1}}  \\cdots \\frac{\\partial J}{\\partial \\theta_{0}} \\right]^{T} \n",
    "\\end{equation*}\n",
    "3.- Calcule la nueva posición \n",
    "\\begin{equation*}\n",
    "{\\boldsymbol{\\theta}}^{(t+1)}:= {\\boldsymbol{\\theta}}^{(t)}- \\alpha \\nabla_{\\boldsymbol{\\theta}}  J(\\boldsymbol{\\theta}^{(t)})\n",
    "\\end{equation*}\n",
    "o de forma equivalente para cada $\\theta_{j}, j\\in 1, \\ldots ,n$\n",
    "\\begin{equation*}\n",
    "\\theta_{j}^{(t+1)}:=\\theta_{j}^{(t)}- \\alpha \\frac{\\partial J({\\boldsymbol{\\theta}}^{(t)})}{\\partial \\theta_j}\n",
    "\\end{equation*}\n",
    "\n",
    "\n",
    "\n",
    "### Gradiente de la función de costo\n",
    "La función de costo multivariable esta dada por \n",
    " \\begin{equation*}\n",
    " J(\\theta_0,\\theta_1, \\theta_2, \\ldots)= \\frac{1}{2} \\sum_{i=1}^{m}(\\theta_0+\\theta_1 x_1^{(i)}+ \\theta_2 x_2^{(i)}+ \\ldots + \\theta_n x_n^{(i)}-y^{(i)})^2\n",
    "\\end{equation*}\n",
    "el gradiente se obtiene fácilmente\n",
    "\n",
    "   \\begin{align}\n",
    "    \\nabla_\\theta J(\\boldsymbol{\\theta}) &= \\begin{bmatrix}\n",
    "            \\frac{\\partial J({\\boldsymbol{\\theta}})}{\\partial \\theta_0} \\\\\n",
    "           \\frac{\\partial J({\\boldsymbol{\\theta}})}{\\partial \\theta_1} \\\\\n",
    "           \\frac{\\partial J({\\boldsymbol{\\theta}})}{\\partial \\theta_2} \\\\\n",
    "           \\vdots  \\\\\n",
    "           \\frac{\\partial J({\\boldsymbol{\\theta}})}{\\partial \\theta_n}\n",
    "         \\end{bmatrix}\n",
    "  \\end{align}\n",
    "  \n",
    "  \n",
    " \\begin{align}\n",
    "    \\nabla_\\theta J(\\boldsymbol{\\theta}) &= \\begin{bmatrix}\n",
    "            \\sum_{i=1}^{m} (\\theta_0+\\theta_1 x_1^{(i)}+ \\theta_2 x_2^{(i)}+ \\ldots + \\theta_n x_n^{(i)}-y^{(i)}) \\cdot 1 \\\\\n",
    "           \\sum_{i=1}^{m} (\\theta_0+\\theta_1 x_1^{(i)}+ \\theta_2 x_2^{(i)}+ \\ldots + \\theta_n x_n^{(i)}-y^{(i)}) \\cdot x_1^{(i)}\\\\\n",
    "           \\sum_{i=1}^{m} (\\theta_0+\\theta_1 x_1^{(i)}+ \\theta_2 x_2^{(i)}+ \\ldots + \\theta_n x_n^{(i)}-y^{(i)}) \\cdot x_2^{(i)}\\\\\n",
    "           \\vdots  \\\\\n",
    "           \\sum_{i=1}^{m} (\\theta_0+\\theta_1 x_1^{(i)}+ \\theta_2 x_2^{(i)}+ \\ldots + \\theta_n x_n^{(i)}-y^{(i)}) \\cdot x_n^{(i)}\n",
    "         \\end{bmatrix}\n",
    "  \\end{align}\n",
    "\n",
    "gradiente en notación vectorial\n",
    "\n",
    " \\begin{equation*}\n",
    "\\nabla_\\theta J(\\boldsymbol{\\theta}) = \\sum_{i=1}^{m}(\\boldsymbol{\\theta}^T \\boldsymbol{x}^{(i)}-y^{(i)}) \\cdot \\boldsymbol{x}^{(i)}\n",
    "\\end{equation*}\n"
   ]
  },
  {
   "cell_type": "markdown",
   "metadata": {},
   "source": [
    "### Algoritmo de gradiente descendente\n",
    "$\\boldsymbol{\\theta_{j+1}}=\\theta_{j}-\\alpha \\nabla \\boldsymbol{J} (\\boldsymbol{\\theta_{j}})$"
   ]
  },
  {
   "cell_type": "code",
   "execution_count": null,
   "metadata": {},
   "outputs": [
    {
     "name": "stderr",
     "output_type": "stream",
     "text": [
      "C:\\Users\\coyul\\AppData\\Roaming\\Python\\Python38\\site-packages\\numpy\\core\\fromnumeric.py:86: RuntimeWarning: overflow encountered in reduce\n",
      "  return ufunc.reduce(obj, axis, dtype, out, **passkwargs)\n",
      "C:\\Users\\coyul\\AppData\\Local\\Temp/ipykernel_34352/811707831.py:20: RuntimeWarning: overflow encountered in square\n",
      "  J.append(np.sum(r**2))\n",
      "C:\\Users\\coyul\\AppData\\Local\\Temp/ipykernel_34352/811707831.py:19: RuntimeWarning: overflow encountered in multiply\n",
      "  theta = theta -lr*si\n"
     ]
    },
    {
     "name": "stdout",
     "output_type": "stream",
     "text": [
      "Iterations: 999\n"
     ]
    },
    {
     "ename": "ValueError",
     "evalue": "Input contains NaN, infinity or a value too large for dtype('float64').",
     "output_type": "error",
     "traceback": [
      "\u001b[1;31m---------------------------------------------------------------------------\u001b[0m",
      "\u001b[1;31mValueError\u001b[0m                                Traceback (most recent call last)",
      "\u001b[1;32m~\\AppData\\Local\\Temp/ipykernel_34352/811707831.py\u001b[0m in \u001b[0;36m<module>\u001b[1;34m\u001b[0m\n\u001b[0;32m     26\u001b[0m \u001b[1;31m# rms = mean_squared_error(y,m*x+b , squared=False)\u001b[0m\u001b[1;33m\u001b[0m\u001b[1;33m\u001b[0m\u001b[1;33m\u001b[0m\u001b[0m\n\u001b[0;32m     27\u001b[0m \u001b[1;31m# print(\"RMS_analytic = %f\" %rms)\u001b[0m\u001b[1;33m\u001b[0m\u001b[1;33m\u001b[0m\u001b[1;33m\u001b[0m\u001b[0m\n\u001b[1;32m---> 28\u001b[1;33m \u001b[0mrms\u001b[0m \u001b[1;33m=\u001b[0m \u001b[0mmean_squared_error\u001b[0m\u001b[1;33m(\u001b[0m\u001b[0my\u001b[0m\u001b[1;33m,\u001b[0m\u001b[0mtheta\u001b[0m\u001b[1;33m[\u001b[0m\u001b[1;36m1\u001b[0m\u001b[1;33m]\u001b[0m\u001b[1;33m*\u001b[0m\u001b[0mx\u001b[0m\u001b[1;33m+\u001b[0m\u001b[0mtheta\u001b[0m\u001b[1;33m[\u001b[0m\u001b[1;36m0\u001b[0m\u001b[1;33m]\u001b[0m \u001b[1;33m,\u001b[0m \u001b[0msquared\u001b[0m\u001b[1;33m=\u001b[0m\u001b[1;32mFalse\u001b[0m\u001b[1;33m)\u001b[0m\u001b[1;33m\u001b[0m\u001b[1;33m\u001b[0m\u001b[0m\n\u001b[0m\u001b[0;32m     29\u001b[0m \u001b[0mprint\u001b[0m\u001b[1;33m(\u001b[0m\u001b[1;34m\"RMS_gradient = %f\"\u001b[0m \u001b[1;33m%\u001b[0m\u001b[0mrms\u001b[0m\u001b[1;33m)\u001b[0m\u001b[1;33m\u001b[0m\u001b[1;33m\u001b[0m\u001b[0m\n",
      "\u001b[1;32m~\\anaconda3\\lib\\site-packages\\sklearn\\metrics\\_regression.py\u001b[0m in \u001b[0;36mmean_squared_error\u001b[1;34m(y_true, y_pred, sample_weight, multioutput, squared)\u001b[0m\n\u001b[0;32m    436\u001b[0m     \u001b[1;36m0.825\u001b[0m\u001b[1;33m...\u001b[0m\u001b[1;33m\u001b[0m\u001b[1;33m\u001b[0m\u001b[0m\n\u001b[0;32m    437\u001b[0m     \"\"\"\n\u001b[1;32m--> 438\u001b[1;33m     y_type, y_true, y_pred, multioutput = _check_reg_targets(\n\u001b[0m\u001b[0;32m    439\u001b[0m         \u001b[0my_true\u001b[0m\u001b[1;33m,\u001b[0m \u001b[0my_pred\u001b[0m\u001b[1;33m,\u001b[0m \u001b[0mmultioutput\u001b[0m\u001b[1;33m\u001b[0m\u001b[1;33m\u001b[0m\u001b[0m\n\u001b[0;32m    440\u001b[0m     )\n",
      "\u001b[1;32m~\\anaconda3\\lib\\site-packages\\sklearn\\metrics\\_regression.py\u001b[0m in \u001b[0;36m_check_reg_targets\u001b[1;34m(y_true, y_pred, multioutput, dtype)\u001b[0m\n\u001b[0;32m     94\u001b[0m     \u001b[0mcheck_consistent_length\u001b[0m\u001b[1;33m(\u001b[0m\u001b[0my_true\u001b[0m\u001b[1;33m,\u001b[0m \u001b[0my_pred\u001b[0m\u001b[1;33m)\u001b[0m\u001b[1;33m\u001b[0m\u001b[1;33m\u001b[0m\u001b[0m\n\u001b[0;32m     95\u001b[0m     \u001b[0my_true\u001b[0m \u001b[1;33m=\u001b[0m \u001b[0mcheck_array\u001b[0m\u001b[1;33m(\u001b[0m\u001b[0my_true\u001b[0m\u001b[1;33m,\u001b[0m \u001b[0mensure_2d\u001b[0m\u001b[1;33m=\u001b[0m\u001b[1;32mFalse\u001b[0m\u001b[1;33m,\u001b[0m \u001b[0mdtype\u001b[0m\u001b[1;33m=\u001b[0m\u001b[0mdtype\u001b[0m\u001b[1;33m)\u001b[0m\u001b[1;33m\u001b[0m\u001b[1;33m\u001b[0m\u001b[0m\n\u001b[1;32m---> 96\u001b[1;33m     \u001b[0my_pred\u001b[0m \u001b[1;33m=\u001b[0m \u001b[0mcheck_array\u001b[0m\u001b[1;33m(\u001b[0m\u001b[0my_pred\u001b[0m\u001b[1;33m,\u001b[0m \u001b[0mensure_2d\u001b[0m\u001b[1;33m=\u001b[0m\u001b[1;32mFalse\u001b[0m\u001b[1;33m,\u001b[0m \u001b[0mdtype\u001b[0m\u001b[1;33m=\u001b[0m\u001b[0mdtype\u001b[0m\u001b[1;33m)\u001b[0m\u001b[1;33m\u001b[0m\u001b[1;33m\u001b[0m\u001b[0m\n\u001b[0m\u001b[0;32m     97\u001b[0m \u001b[1;33m\u001b[0m\u001b[0m\n\u001b[0;32m     98\u001b[0m     \u001b[1;32mif\u001b[0m \u001b[0my_true\u001b[0m\u001b[1;33m.\u001b[0m\u001b[0mndim\u001b[0m \u001b[1;33m==\u001b[0m \u001b[1;36m1\u001b[0m\u001b[1;33m:\u001b[0m\u001b[1;33m\u001b[0m\u001b[1;33m\u001b[0m\u001b[0m\n",
      "\u001b[1;32m~\\anaconda3\\lib\\site-packages\\sklearn\\utils\\validation.py\u001b[0m in \u001b[0;36mcheck_array\u001b[1;34m(array, accept_sparse, accept_large_sparse, dtype, order, copy, force_all_finite, ensure_2d, allow_nd, ensure_min_samples, ensure_min_features, estimator)\u001b[0m\n\u001b[0;32m    798\u001b[0m \u001b[1;33m\u001b[0m\u001b[0m\n\u001b[0;32m    799\u001b[0m         \u001b[1;32mif\u001b[0m \u001b[0mforce_all_finite\u001b[0m\u001b[1;33m:\u001b[0m\u001b[1;33m\u001b[0m\u001b[1;33m\u001b[0m\u001b[0m\n\u001b[1;32m--> 800\u001b[1;33m             \u001b[0m_assert_all_finite\u001b[0m\u001b[1;33m(\u001b[0m\u001b[0marray\u001b[0m\u001b[1;33m,\u001b[0m \u001b[0mallow_nan\u001b[0m\u001b[1;33m=\u001b[0m\u001b[0mforce_all_finite\u001b[0m \u001b[1;33m==\u001b[0m \u001b[1;34m\"allow-nan\"\u001b[0m\u001b[1;33m)\u001b[0m\u001b[1;33m\u001b[0m\u001b[1;33m\u001b[0m\u001b[0m\n\u001b[0m\u001b[0;32m    801\u001b[0m \u001b[1;33m\u001b[0m\u001b[0m\n\u001b[0;32m    802\u001b[0m     \u001b[1;32mif\u001b[0m \u001b[0mensure_min_samples\u001b[0m \u001b[1;33m>\u001b[0m \u001b[1;36m0\u001b[0m\u001b[1;33m:\u001b[0m\u001b[1;33m\u001b[0m\u001b[1;33m\u001b[0m\u001b[0m\n",
      "\u001b[1;32m~\\anaconda3\\lib\\site-packages\\sklearn\\utils\\validation.py\u001b[0m in \u001b[0;36m_assert_all_finite\u001b[1;34m(X, allow_nan, msg_dtype)\u001b[0m\n\u001b[0;32m    112\u001b[0m         ):\n\u001b[0;32m    113\u001b[0m             \u001b[0mtype_err\u001b[0m \u001b[1;33m=\u001b[0m \u001b[1;34m\"infinity\"\u001b[0m \u001b[1;32mif\u001b[0m \u001b[0mallow_nan\u001b[0m \u001b[1;32melse\u001b[0m \u001b[1;34m\"NaN, infinity\"\u001b[0m\u001b[1;33m\u001b[0m\u001b[1;33m\u001b[0m\u001b[0m\n\u001b[1;32m--> 114\u001b[1;33m             raise ValueError(\n\u001b[0m\u001b[0;32m    115\u001b[0m                 msg_err.format(\n\u001b[0;32m    116\u001b[0m                     \u001b[0mtype_err\u001b[0m\u001b[1;33m,\u001b[0m \u001b[0mmsg_dtype\u001b[0m \u001b[1;32mif\u001b[0m \u001b[0mmsg_dtype\u001b[0m \u001b[1;32mis\u001b[0m \u001b[1;32mnot\u001b[0m \u001b[1;32mNone\u001b[0m \u001b[1;32melse\u001b[0m \u001b[0mX\u001b[0m\u001b[1;33m.\u001b[0m\u001b[0mdtype\u001b[0m\u001b[1;33m\u001b[0m\u001b[1;33m\u001b[0m\u001b[0m\n",
      "\u001b[1;31mValueError\u001b[0m: Input contains NaN, infinity or a value too large for dtype('float64')."
     ]
    },
    {
     "data": {
      "image/png": "[encoded data removed]",
      "text/plain": [
       "<Figure size 432x288 with 1 Axes>"
      ]
     },
     "metadata": {
      "needs_background": "light"
     },
     "output_type": "display_data"
    }
   ],
   "source": [
    "theta = np.array([[0],[0]])\n",
    "ep=1e-4\n",
    "lr =10\n",
    "n_iter = 1000\n",
    "y=y.reshape((len(y), 1))\n",
    "x_b = np.c_[np.ones((len(x),1)),x]\n",
    "J=[]\n",
    "x_bs=x_b*1\n",
    "for it in range(1,x_bs.shape[1]):\n",
    "    m=np.mean(x_b[:,it])\n",
    "    std=np.std(x_b[:,it])\n",
    "    x_bs[:,it]=(x_b[:,it]-m)/std\n",
    "    \n",
    "for it in range(n_iter):\n",
    "    #Gradient\n",
    "    pred = np.dot(x_bs,theta)\n",
    "    r=(pred - y)\n",
    "    si=(x_bs.T.dot(r))\n",
    "    theta = theta -lr*si\n",
    "    J.append(np.sum(r**2))\n",
    "    if LA.norm(si)<ep:\n",
    "        break\n",
    "plt.plot(J)\n",
    "print(\"Iterations: %d\" %it)\n",
    "# print(\"analytic: b=%f, m=%f,  \\nDG: b=%f m=%f,\" %(b,m,theta[0],theta[1]))\n",
    "# rms = mean_squared_error(y,m*x+b , squared=False)\n",
    "# print(\"RMS_analytic = %f\" %rms)\n",
    "rms = mean_squared_error(y,theta[1]*x+theta[0] , squared=False)\n",
    "print(\"RMS_gradient = %f\" %rms)"
   ]
  },
  {
   "cell_type": "code",
   "execution_count": 9,
   "metadata": {},
   "outputs": [
    {
     "data": {
      "text/plain": [
       "<matplotlib.legend.Legend at 0x25fe939bd60>"
      ]
     },
     "execution_count": 9,
     "metadata": {},
     "output_type": "execute_result"
    },
    {
     "data": {
      "image/png": "[encoded data removed]",
      "text/plain": [
       "<Figure size 432x288 with 1 Axes>"
      ]
     },
     "metadata": {
      "needs_background": "light"
     },
     "output_type": "display_data"
    }
   ],
   "source": [
    "#plot \n",
    "x_p=np.array([np.min(x),np.max(x)])\n",
    "y_g=theta[1]*x_p+theta[0]\n",
    "plt.plot(x_p,y_p,'r-')\n",
    "plt.plot(x_p,y_g,'g--')\n",
    "plt.plot(x,y,'b.')\n",
    "plt.xlabel(\"Years of Experience\", fontsize=12);\n",
    "plt.ylabel(\"Salary\", rotation=90, fontsize=12);\n",
    "plt.legend([\"Analytic\", \"Descent Gradient\"], loc =\"lower right\")"
   ]
  },
  {
   "cell_type": "code",
   "execution_count": null,
   "metadata": {},
   "outputs": [],
   "source": [
    "\n",
    "#analytic: b=25792.200199, m=9449.962321,  \n",
    "\n",
    "B = np.arange(0, 40000, 50)\n",
    "Blen = len(B)\n",
    "M = np.arange(0, 15000, 25)\n",
    "Mlen = len(M)\n",
    "print(Blen,Mlen)\n",
    "pred=np.zeros([Blen,Mlen])\n",
    "\n",
    "\n",
    "for i in range(Blen):\n",
    "    for j in range(Mlen):\n",
    "        temp=np.array([[B[i]],[M[j]]])\n",
    "        temp=np.dot(x_b,temp)\n",
    "        temp=np.sum((temp - y)**2)\n",
    "        pred[i,j]=temp\n",
    "#         temp=(x_b.T.dot((temp - y)))\n",
    "#         pred[i,j]=LA.norm(temp)\n",
    "\n",
    "print(np.min(B))\n",
    "B, M = np.meshgrid(M, B)\n",
    "print(pred.shape, B.shape)       \n",
    "fig = plt.figure()\n",
    "ax = fig.add_subplot(projection='3d')\n",
    "surf = ax.plot_surface(B, M, pred, cmap=cm.coolwarm,\n",
    "                       linewidth=0, antialiased=False)\n",
    "plt.show()\n",
    "pred_t=pred"
   ]
  },
  {
   "cell_type": "code",
   "execution_count": null,
   "metadata": {},
   "outputs": [],
   "source": [
    "%matplotlib widget\n",
    "fig, ax = plt.subplots()\n",
    "plt.contour(B, M, pred_t, 150, cmap='RdGy');\n",
    "plt.xlabel(\"Slope\", fontsize=12);\n",
    "plt.ylabel(\"Intercept\", rotation=90, fontsize=12);\n",
    "plt.plot(9449.962321, 25792.200199 , 'ro')\n",
    "\n",
    "theta_pre = np.array([[0],[0]])\n",
    "theta_new = theta_pre\n",
    "ep=1e-3\n",
    "lr =0.0001\n",
    "n_iter = 1000\n",
    "y=y.reshape((len(y), 1))\n",
    "x_b = np.c_[np.ones((len(x),1)),x]\n",
    "plt.plot(theta_pre[0], theta_pre[1], 'go')\n",
    "for it in range(n_iter):\n",
    "    #Gradient\n",
    "    pred = np.dot(x_b,theta_pre)\n",
    "    si=-lr*(x_b.T.dot((pred - y)))\n",
    "    theta_new = theta_pre + si;\n",
    "    xt=np.array([theta_pre[1],theta_new[1]])\n",
    "    yt=np.array([theta_pre[0],theta_new[0]])\n",
    "    plt.plot(theta_new[1], theta_new[0], 'go')\n",
    "    plt.plot(xt,yt,'g-')\n",
    "    theta_pre=theta_new\n",
    "#     print(theta_pre)\n",
    "    if LA.norm(si)<ep:\n",
    "        break;\n",
    "plt.show()\n",
    "print(theta_pre)"
   ]
  },
  {
   "cell_type": "markdown",
   "metadata": {},
   "source": [
    "### Ejemplo bidimensional del Algoritmo de gradiente descendente  "
   ]
  },
  {
   "cell_type": "code",
   "execution_count": null,
   "metadata": {},
   "outputs": [],
   "source": [
    "%matplotlib widget\n",
    "dataset = pd.read_csv('auto-mpg.csv')\n",
    "print(dataset)\n",
    "# dataset= dataset.drop(labels=8, axis=0)\n",
    "vary=0\n",
    "var1=4\n",
    "var2=5\n",
    "\n",
    "x1 = dataset.iloc[:, var1].values #Feature matrix\n",
    "x2 = dataset.iloc[:, var2].values #Criterion Matrix \n",
    "y = dataset.iloc[:, vary].values #Criterion Matrix \n",
    "fig = plt.figure()\n",
    "ax = fig.add_subplot(projection='3d')\n",
    "ax.scatter3D(x1,x2,y)\n",
    "plt.title(\"Data  3D \")\n",
    "\n",
    "\n",
    "ax.set_xlabel(dataset.columns[var1], fontsize=12);\n",
    "ax.set_ylabel(dataset.columns[var2], rotation=90, fontsize=12);\n",
    "ax.set_zlabel(dataset.columns[vary], rotation=90, fontsize=12);"
   ]
  },
  {
   "cell_type": "code",
   "execution_count": null,
   "metadata": {},
   "outputs": [],
   "source": [
    "theta = np.array([[-10],[-10],[-10]])\n",
    "ep=1e-4\n",
    "lr =0.001\n",
    "n_iter = 500\n",
    "y=y.reshape((len(y), 1))\n",
    "x_b = np.c_[np.ones((len(x1),1)),x1,x2]\n",
    "#Standardization using z-score\n",
    "nf,nc=x_b.shape\n",
    "x_bs=x_b\n",
    "for it in range(1,nc):\n",
    "    m=np.mean(x_b[:,it])\n",
    "    std=np.std(x_b[:,it])\n",
    "    x_bs[:,it]=(x_b[:,it]-m)/std\n",
    "\n",
    "for it in range(n_iter):\n",
    "    #Gradient\n",
    "    pred = np.dot(x_bs,theta)\n",
    "    si=-lr*(x_bs.T.dot((pred - y)))\n",
    "    theta = theta + si\n",
    "    \n",
    "    if LA.norm(si)<ep:\n",
    "        break;\n",
    "print(theta[0],theta[1],theta[2])        \n",
    "#[23.51457281] [-6.20451092] [0.69061318]"
   ]
  },
  {
   "cell_type": "code",
   "execution_count": null,
   "metadata": {},
   "outputs": [],
   "source": [
    "x1 = np.arange(np.min(x_bs[:,1]), np.max(x_bs[:,1]), 0.02)\n",
    "x2 = np.arange(np.min(x_bs[:,2]), np.max(x_bs[:,2]), 0.02)\n",
    "plane=np.zeros([len(x1),len(x2)])\n",
    "\n",
    "for i in range(len(x1)):\n",
    "    for j in range(len(x2)):\n",
    "        plane[i,j]=np.dot(np.c_[1,x1[i],x2[j]],theta)\n",
    "X1, X2 = np.meshgrid(x1, x2, indexing = 'ij')\n",
    "print(X1.shape)\n",
    "print(X2.shape)\n",
    "print(plane.shape)\n",
    "\n",
    "\n",
    "fig = plt.figure()\n",
    "ax = fig.add_subplot(111, projection='3d')\n",
    "surf = ax.plot_surface(X1,X2, plane,\n",
    "                       linewidth=0, antialiased=False,alpha=0.2)\n",
    "ax.scatter(x_bs[:,1], x_bs[:,2], y, c='r', marker='o')\n",
    "ax.set_xlabel(dataset.columns[var1], fontsize=12);\n",
    "ax.set_ylabel(dataset.columns[var2], rotation=90, fontsize=12);\n",
    "ax.set_zlabel(dataset.columns[vary], rotation=90, fontsize=12);\n",
    "\n",
    "\n"
   ]
  },
  {
   "cell_type": "markdown",
   "metadata": {},
   "source": [
    "## Solución cerrrada"
   ]
  },
  {
   "cell_type": "code",
   "execution_count": null,
   "metadata": {},
   "outputs": [],
   "source": [
    "theta_best = np.linalg.inv(x_bs.T.dot(x_bs)).dot(x_bs.T).dot(y)\n",
    "print(theta_best)"
   ]
  },
  {
   "cell_type": "code",
   "execution_count": null,
   "metadata": {},
   "outputs": [],
   "source": []
  }
 ],
 "metadata": {
  "kernelspec": {
   "display_name": "Python 3 (ipykernel)",
   "language": "python",
   "name": "python3"
  },
  "language_info": {
   "codemirror_mode": {
    "name": "ipython",
    "version": 3
   },
   "file_extension": ".py",
   "mimetype": "text/x-python",
   "name": "python",
   "nbconvert_exporter": "python",
   "pygments_lexer": "ipython3",
   "version": "3.10.9"
  }
 },
 "nbformat": 4,
 "nbformat_minor": 4
}
