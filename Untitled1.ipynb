{
 "cells": [
  {
   "cell_type": "code",
   "execution_count": 16,
   "id": "b1bad2dc-808c-41b6-b0a0-ef452035147f",
   "metadata": {},
   "outputs": [
    {
     "name": "stdout",
     "output_type": "stream",
     "text": [
      "[122.07185863 166.91167498  92.33970978 138.28041637  86.39631795\n",
      " 122.7921317  136.9417763 ] [-46.87207468 -36.96839827 -25.10408932 -73.73202647 -25.9281447\n",
      "  50.09844358 -29.63885622]\n"
     ]
    }
   ],
   "source": [
    "import numpy as np\n",
    "from matplotlib import pyplot as plt\n",
    "\n",
    "from pykrige.ok import OrdinaryKriging\n",
    "\n",
    "# Make this example reproducible:\n",
    "np.random.seed(89239413)\n",
    "\n",
    "# Generate random data following a uniform spatial distribution\n",
    "# of nodes and a uniform distribution of values in the interval\n",
    "# [2.0, 5.5]:\n",
    "N = 7\n",
    "lon = 360.0 * np.random.random(N)\n",
    "lat = 180.0 / np.pi * np.arcsin(2 * np.random.random(N) - 1)\n",
    "z = 3.5 * np.random.rand(N) + 2.0"
   ]
  },
  {
   "cell_type": "code",
   "execution_count": 17,
   "id": "f066c181-3e99-46ac-b6db-49d7662414ce",
   "metadata": {},
   "outputs": [
    {
     "name": "stdout",
     "output_type": "stream",
     "text": [
      "[[0.6560859419381198 0.6560859419381198 0.6560859419381198\n",
      "  0.6560859419381198 0.6560859419381206 0.6560859419381206\n",
      "  0.6560859419381198]\n",
      " [1.5626219834534942 0.8320259035379247 0.2992604056288415\n",
      "  0.5203874707424165 1.3140983512643705 1.799198388291278\n",
      "  1.5626219834534953]\n",
      " [2.2676556330432267 0.8573221346298137 0.33699121081178396\n",
      "  0.5016642315098079 1.9467784571401991 2.8581706776677747\n",
      "  2.267655633043227]\n",
      " [2.4825295628858925 1.1647626454644022 0.7382772609207637\n",
      "  1.105499457953761 2.174273379140186 3.054872218372871\n",
      "  2.4825295628858943]\n",
      " [2.2224047843507178 1.3416640061320089 0.6157787383983825\n",
      "  1.2683815931927718 2.118899343183636 2.596548264158736\n",
      "  2.222404784350716]\n",
      " [2.2233586273397727 1.3171668356893997 0.41623371254636404\n",
      "  1.214764471298535 2.0743152042620516 2.479604304043489\n",
      "  2.223358627339773]\n",
      " [1.608739181034833 1.6087391810348333 1.608739181034833\n",
      "  1.6087391810348333 1.608739181034833 1.608739181034833\n",
      "  1.608739181034833]]\n"
     ]
    }
   ],
   "source": [
    "# Generate a regular grid with 60° longitude and 30° latitude steps:\n",
    "grid_lon = np.linspace(0.0, 360.0, 7)\n",
    "grid_lat = np.linspace(-90.0, 90.0, 7)\n",
    "\n",
    "# Create ordinary kriging object:\n",
    "OK = OrdinaryKriging(\n",
    "    lon,\n",
    "    lat,\n",
    "    z,\n",
    "    variogram_model=\"linear\",\n",
    "    verbose=False,\n",
    "    enable_plotting=False,\n",
    "    coordinates_type=\"geographic\",\n",
    ")\n",
    "\n",
    "# Execute on grid:\n",
    "z1, ss1 = OK.execute(\"grid\", grid_lon, grid_lat)\n",
    "print(ss1)\n",
    "# Create ordinary kriging object ignoring curvature:\n",
    "OK = OrdinaryKriging(\n",
    "    lon, lat, z, variogram_model=\"linear\", verbose=False, enable_plotting=False\n",
    ")\n",
    "\n",
    "# Execute on grid:\n",
    "z2, ss2 = OK.execute(\"grid\", grid_lon, grid_lat)"
   ]
  },
  {
   "cell_type": "code",
   "execution_count": 11,
   "id": "b80e94ad-2e68-432f-81f3-197931aec264",
   "metadata": {},
   "outputs": [
    {
     "data": {
      "image/png": "[encoded data removed]",
      "text/plain": [
       "<Figure size 432x288 with 2 Axes>"
      ]
     },
     "metadata": {
      "needs_background": "light"
     },
     "output_type": "display_data"
    }
   ],
   "source": [
    "fig, (ax1, ax2) = plt.subplots(1, 2)\n",
    "ax1.imshow(z1, extent=[0, 360, -90, 90], origin=\"lower\")\n",
    "ax1.set_title(\"geo-coordinates\")\n",
    "ax2.imshow(z2, extent=[0, 360, -90, 90], origin=\"lower\")\n",
    "ax2.set_title(\"non geo-coordinates\")\n",
    "plt.show()"
   ]
  },
  {
   "cell_type": "code",
   "execution_count": null,
   "id": "6c6d6810-713e-4a78-9ba0-2a7baf3be2e7",
   "metadata": {},
   "outputs": [],
   "source": []
  }
 ],
 "metadata": {
  "kernelspec": {
   "display_name": "Python 3 (ipykernel)",
   "language": "python",
   "name": "python3"
  },
  "language_info": {
   "codemirror_mode": {
    "name": "ipython",
    "version": 3
   },
   "file_extension": ".py",
   "mimetype": "text/x-python",
   "name": "python",
   "nbconvert_exporter": "python",
   "pygments_lexer": "ipython3",
   "version": "3.8.8"
  }
 },
 "nbformat": 4,
 "nbformat_minor": 5
}
