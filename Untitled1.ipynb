{
 "cells": [
  {
   "cell_type": "code",
   "execution_count": 1,
   "id": "467f6799-3455-47da-9910-0fa8194558cb",
   "metadata": {},
   "outputs": [],
   "source": [
    "import numpy as np\n",
    "from numpy import linalg as LA\n",
    "import matplotlib.pyplot as plt\n",
    "from mpl_toolkits.mplot3d import Axes3D\n",
    "from matplotlib import cm\n",
    "import pandas as pd\n",
    "from sklearn.metrics import mean_squared_error\n",
    "%matplotlib inline\n",
    "# %matplotlib qt"
   ]
  },
  {
   "cell_type": "code",
   "execution_count": 3,
   "id": "c77999e5-e7c1-48a2-88b9-cea9a90c6ba1",
   "metadata": {},
   "outputs": [],
   "source": [
    "dataset = pd.read_csv('Dataset/Salary_Data.csv')\n",
    "x = dataset.iloc[:, 0].values #Feature matrix\n",
    "y = dataset.iloc[:, 1].values #Label Matrix "
   ]
  },
  {
   "cell_type": "code",
   "execution_count": 7,
   "id": "d4f74d60-8f90-496e-a509-736f1423e243",
   "metadata": {},
   "outputs": [
    {
     "name": "stdout",
     "output_type": "stream",
     "text": [
      "[[ 1.         -1.51005294]\n",
      " [ 1.         -1.43837321]\n",
      " [ 1.         -1.36669348]\n",
      " [ 1.         -1.18749416]\n",
      " [ 1.         -1.11581443]\n",
      " [ 1.         -0.86493538]\n",
      " [ 1.         -0.82909552]\n",
      " [ 1.         -0.75741579]\n",
      " [ 1.         -0.75741579]\n",
      " [ 1.         -0.57821647]\n",
      " [ 1.         -0.50653674]\n",
      " [ 1.         -0.47069688]\n",
      " [ 1.         -0.47069688]\n",
      " [ 1.         -0.43485702]\n",
      " [ 1.         -0.29149756]\n",
      " [ 1.         -0.1481381 ]\n",
      " [ 1.         -0.07645838]\n",
      " [ 1.         -0.00477865]\n",
      " [ 1.          0.21026054]\n",
      " [ 1.          0.2461004 ]\n",
      " [ 1.          0.53281931]\n",
      " [ 1.          0.6403389 ]\n",
      " [ 1.          0.92705781]\n",
      " [ 1.          1.03457741]\n",
      " [ 1.          1.21377673]\n",
      " [ 1.          1.32129632]\n",
      " [ 1.          1.50049564]\n",
      " [ 1.          1.5363355 ]\n",
      " [ 1.          1.78721455]\n",
      " [ 1.          1.85889428]]\n"
     ]
    }
   ],
   "source": [
    "y=y.reshape((len(y), 1))\n",
    "#bias o sesgo \n",
    "x_b = np.c_[np.ones((len(x),1)),x]\n",
    "## z-score\n",
    "x_bs=x_b*1\n",
    "for it in range(1,x_bs.shape[1]):\n",
    "    m=np.mean(x_b[:,it])\n",
    "    std=np.std(x_b[:,it])\n",
    "    x_bs[:,it]=(x_b[:,it]-m)/std\n",
    "\n",
    "theta = np.array([[0],[0]])  \n",
    "for it in range(n_iter):\n",
    "    theta = theta -lr*(x_bs.T.dot(   np.dot(x_bs,theta)-y))\n"
   ]
  },
  {
   "cell_type": "code",
   "execution_count": null,
   "id": "81c1f576-ea90-4e8d-a200-cf5723b98e48",
   "metadata": {},
   "outputs": [],
   "source": []
  }
 ],
 "metadata": {
  "kernelspec": {
   "display_name": "Python 3 (ipykernel)",
   "language": "python",
   "name": "python3"
  },
  "language_info": {
   "codemirror_mode": {
    "name": "ipython",
    "version": 3
   },
   "file_extension": ".py",
   "mimetype": "text/x-python",
   "name": "python",
   "nbconvert_exporter": "python",
   "pygments_lexer": "ipython3",
   "version": "3.8.8"
  }
 },
 "nbformat": 4,
 "nbformat_minor": 5
}
