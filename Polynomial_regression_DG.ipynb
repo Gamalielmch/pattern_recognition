{
 "cells": [
  {
   "cell_type": "code",
   "execution_count": 1,
   "metadata": {},
   "outputs": [],
   "source": [
    "import numpy as np\n",
    "import matplotlib.pyplot as plt\n",
    "import pandas as pd\n",
    "import random"
   ]
  },
  {
   "cell_type": "code",
   "execution_count": 2,
   "metadata": {},
   "outputs": [
    {
     "name": "stdout",
     "output_type": "stream",
     "text": [
      "            Position  Level   Salary\n",
      "0   Business Analyst      1    45000\n",
      "1  Junior Consultant      2    50000\n",
      "2  Senior Consultant      3    60000\n",
      "3            Manager      4    80000\n",
      "4    Country Manager      5   110000\n",
      "5     Region Manager      6   150000\n",
      "6            Partner      7   200000\n",
      "7     Senior Partner      8   300000\n",
      "8            C-level      9   500000\n",
      "9                CEO     10  1000000\n"
     ]
    },
    {
     "data": {
      "image/png": "[encoded data removed]",
      "text/plain": [
       "<Figure size 432x288 with 1 Axes>"
      ]
     },
     "metadata": {
      "needs_background": "light"
     },
     "output_type": "display_data"
    }
   ],
   "source": [
    "dataset = pd.read_csv('Dataset\\Position_Salaries.csv')\n",
    "print(dataset)\n",
    "X = dataset.iloc[:,1:2].values  \n",
    "y = dataset.iloc[:,2].values\n",
    "plt.plot(X,y,'b.')\n",
    "plt.title(\"Truth or Bluff(Linear)\")\n",
    "plt.xlabel('Position level')\n",
    "plt.ylabel('Salary')\n",
    "plt.show()"
   ]
  },
  {
   "cell_type": "markdown",
   "metadata": {},
   "source": [
    "## Cost Function & Gradients\n",
    "<b>Hypotesis</b>\n",
    "\n",
    "$\\begin{equation*}\n",
    "\\large\n",
    "h(\\boldsymbol{x};\\boldsymbol{\\theta})= \\theta_0 + \\theta_1x_i+ \\theta_2x_i^2 + \\cdots + \\theta_nx_i^n\n",
    "\\end{equation*}\n",
    "$\n",
    "\n",
    "<b>Vectorial notation</b>\n",
    "<b>if </b>\n",
    "\\begin{equation}\n",
    "\\large\n",
    "\\boldsymbol{x_{p_i}}=  [1 \\quad x_i \\quad x_i^2 \\cdots x_i^n ]\n",
    "\\end{equation}\n",
    "<b>then</b>\n",
    "\\begin{equation}\n",
    "h(\\boldsymbol{x};\\boldsymbol{\\theta})=\\boldsymbol{\\theta}^T\\boldsymbol{x_{p_i}}\n",
    "\\end{equation}\n",
    "\n",
    "\n",
    "<b>Cost</b>\n",
    "\\begin{equation}\n",
    "\\large\n",
    "J(\\theta) =  \\frac{1}{2m} \\sum_{i=1}^{m} (h(\\theta)^{(i)} - y^{(i)})^2 \n",
    "\\end{equation}\n",
    "\n",
    "<b>Cost function for second degree polynomial</b>\n",
    "\\begin{equation}\n",
    "\\large\n",
    "J(\\theta) =  \\frac{1}{2m} \\sum_{i=1}^{m} ((\\theta_0 + \\theta_1x_i+ \\theta_2x_i^2) - y^{(i)})^2 \n",
    "\\end{equation}\n",
    "\n",
    "\n",
    "<b>partial derivatives for Gradient</b>\n",
    "\\begin{equation}\n",
    "\\large\n",
    "\\frac{\\partial J(\\theta)}{\\partial \\theta_0} = 1/m \\sum_{i=1}^{m}( (\\theta_0 + \\theta_1x_i+ \\theta_2x_i^2) - y^{(i)})\n",
    "\\end{equation}\n",
    "\n",
    "\\begin{equation}\n",
    "\\large\n",
    "\\frac{\\partial J(\\theta)}{\\partial \\theta_1} = 1/m \\sum_{i=1}^{m}( (\\theta_0 + \\theta_1x_i+ \\theta_2x_i^2) - y^{(i)})x_i\n",
    "\\end{equation}\n",
    "\n",
    "\\begin{equation}\n",
    "\\large\n",
    "\\frac{\\partial J(\\theta)}{\\partial \\theta_2} = 1/m \\sum_{i=1}^{m}( (\\theta_0 + \\theta_1x_i+ \\theta_2x_i^2) - y^{(i)})x_i^2\n",
    "\\end{equation}\n",
    "\n",
    "\n",
    "<b>Generalizing</b>\n",
    "\\begin{equation}\n",
    "\\large\n",
    "\\frac{\\partial J(\\theta)}{\\partial \\theta_n} = 1/m \\sum_{i=1}^{m}( (\\theta_0 + \\theta_1x_i+ \\theta_2x_i^2 + \\cdots + \\theta_nx_i^n ) - y^{(i)})x_i^n\n",
    "\\end{equation}\n",
    "\n",
    "\n",
    "\\begin{equation}\n",
    "\\large\n",
    "\\nabla J(\\boldsymbol{\\theta}) = 1/m\\sum_{i=1}^{m}(h(\\theta^{(i)} - y^{(i)})\\cdot\\boldsymbol{x_{p_i}}\n",
    "\\end{equation}\n",
    "\n",
    "\n"
   ]
  },
  {
   "cell_type": "markdown",
   "metadata": {},
   "source": [
    "## Polinomio de orden 3"
   ]
  },
  {
   "cell_type": "code",
   "execution_count": 3,
   "metadata": {},
   "outputs": [
    {
     "data": {
      "image/png": "[encoded data removed]",
      "text/plain": [
       "<Figure size 432x288 with 1 Axes>"
      ]
     },
     "metadata": {
      "needs_background": "light"
     },
     "output_type": "display_data"
    }
   ],
   "source": [
    "theta=np.array((random.randrange(-10, 10), \n",
    "                random.randrange(-10, 10), \n",
    "                random.randrange(-10,10), \n",
    "                random.randrange(-10,10)))\n",
    "theta=np.reshape(theta,(len(theta),1))\n",
    "lr = 1e-3\n",
    "epochs=5000\n",
    "m=np.mean(X)\n",
    "std=np.std(X)\n",
    "X=(X-m)/std\n",
    "X_b=np.c_[np.ones((len(X),1)),X,X**2,X**3]\n",
    "\n",
    "y=np.reshape(y,(len(y),1))\n",
    "j_cost= np.zeros([epochs])\n",
    "\n",
    "for i in range(epochs):\n",
    "    pred= np.dot(X_b,theta)\n",
    "    arg=pred - y\n",
    "    grad= X_b.T.dot(arg)\n",
    "    theta = theta -lr*grad\n",
    "    j_cost[i]=np.sum(np.square(arg))\n",
    "\n",
    "fig = plt.figure()\n",
    "plt.plot(j_cost)\n",
    "plt.show()\n",
    "# print(f\" model loss: {GD[1]} vs {theta.T}\")\n",
    "# print(f\"Now have smaller model loss: {updated_model_loss} vs {j_cost[-1]}\")\n",
    "\n",
    "    "
   ]
  },
  {
   "cell_type": "code",
   "execution_count": 4,
   "metadata": {},
   "outputs": [
    {
     "name": "stdout",
     "output_type": "stream",
     "text": [
      "(314, 4)\n"
     ]
    },
    {
     "data": {
      "image/png": "[encoded data removed]",
      "text/plain": [
       "<Figure size 720x432 with 1 Axes>"
      ]
     },
     "metadata": {
      "needs_background": "light"
     },
     "output_type": "display_data"
    },
    {
     "name": "stdout",
     "output_type": "stream",
     "text": [
      "[[ 89187.50194501]\n",
      " [ 58918.60087237]\n",
      " [160312.49866823]\n",
      " [ 97640.31049966]]\n"
     ]
    }
   ],
   "source": [
    "X_grid = np.arange(min(X),max(X),0.01)\n",
    "X_grid = X_grid.reshape(len(X_grid),1)\n",
    "Xt=X_grid\n",
    "X_grid =np.c_[np.ones((len(X_grid ),1)),X_grid ,X_grid **2,X_grid **3]\n",
    "print(X_grid.shape)\n",
    "pred= np.dot(X_grid,theta)\n",
    "plt.figure(figsize=(10,6))\n",
    "plt.plot(X, y, 'g+', label = 'original data')\n",
    "plt.plot(Xt, pred, 'b', label = 'prediction')\n",
    "plt.title('Original data vs prediction')\n",
    "plt.legend(loc=\"lower right\")\n",
    "plt.show()\n",
    "print(theta)"
   ]
  },
  {
   "cell_type": "code",
   "execution_count": 5,
   "metadata": {},
   "outputs": [
    {
     "name": "stdout",
     "output_type": "stream",
     "text": [
      "[[ 97629.9469015 ]\n",
      " [160312.5       ]\n",
      " [ 58939.51404173]\n",
      " [ 89187.5       ]]\n"
     ]
    }
   ],
   "source": [
    "z = np.polyfit(X.reshape(len(X,)), y, 3)\n",
    "print(z)"
   ]
  },
  {
   "cell_type": "markdown",
   "metadata": {},
   "source": [
    "## Polinomio de orden 6"
   ]
  },
  {
   "cell_type": "code",
   "execution_count": 6,
   "metadata": {},
   "outputs": [
    {
     "data": {
      "image/png": "[encoded data removed]",
      "text/plain": [
       "<Figure size 432x288 with 1 Axes>"
      ]
     },
     "metadata": {
      "needs_background": "light"
     },
     "output_type": "display_data"
    }
   ],
   "source": [
    "theta=np.array((random.randrange(-10, 10), \n",
    "                random.randrange(-10, 10), \n",
    "                random.randrange(-10,10), \n",
    "                random.randrange(-10,10), \n",
    "                random.randrange(-10,10), \n",
    "                random.randrange(-10,10), \n",
    "                random.randrange(-10,10)))\n",
    "theta=np.reshape(theta,(len(theta),1))\n",
    "lr = 1e-3\n",
    "epochs=5000\n",
    "X_b=np.c_[np.ones((len(X),1)),X,X**2,X**3,X**4,X**5,X**6]\n",
    "y=np.reshape(y,(len(y),1))\n",
    "j_cost= np.zeros([epochs])\n",
    "\n",
    "for i in range(epochs):\n",
    "    pred= np.dot(X_b,theta)\n",
    "    arg=pred - y\n",
    "    grad= X_b.T.dot(arg)\n",
    "    theta = theta -lr*grad\n",
    "    j_cost[i]=np.sum(np.square(arg))\n",
    "\n",
    "fig = plt.figure()\n",
    "plt.plot(j_cost)\n",
    "plt.show()"
   ]
  },
  {
   "cell_type": "code",
   "execution_count": 7,
   "metadata": {},
   "outputs": [
    {
     "name": "stdout",
     "output_type": "stream",
     "text": [
      "(314, 7)\n"
     ]
    },
    {
     "data": {
      "image/png": "[encoded data removed]",
      "text/plain": [
       "<Figure size 720x432 with 1 Axes>"
      ]
     },
     "metadata": {
      "needs_background": "light"
     },
     "output_type": "display_data"
    },
    {
     "name": "stdout",
     "output_type": "stream",
     "text": [
      "[[128180.25013554]\n",
      " [ 97108.07032134]\n",
      " [ 42331.20957088]\n",
      " [ 29840.72320719]\n",
      " [ 23572.60109082]\n",
      " [ 22129.98929513]\n",
      " [ 10025.80365644]]\n"
     ]
    }
   ],
   "source": [
    "X_grid = np.arange(min(X),max(X),0.01)\n",
    "X_grid = X_grid.reshape(len(X_grid),1)\n",
    "Xt=X_grid\n",
    "X_grid =np.c_[np.ones((len(X_grid ),1)),X_grid ,X_grid **2,X_grid **3,X_grid **4,X_grid **5,X_grid **6]\n",
    "print(X_grid.shape)\n",
    "pred= np.dot(X_grid,theta)\n",
    "plt.figure(figsize=(10,6))\n",
    "plt.plot(X, y, 'g+', label = 'original data')\n",
    "plt.plot(Xt, pred, 'b', label = 'prediction')\n",
    "plt.title('Original data vs prediction')\n",
    "plt.legend(loc=\"lower right\")\n",
    "plt.show()\n",
    "print(theta)"
   ]
  },
  {
   "cell_type": "code",
   "execution_count": 8,
   "metadata": {},
   "outputs": [
    {
     "name": "stdout",
     "output_type": "stream",
     "text": [
      "[[ 11113.33007813]\n",
      " [ 30828.00211602]\n",
      " [ 19408.44726562]\n",
      " [  1097.81906346]\n",
      " [ 46252.49023438]\n",
      " [116188.82191987]\n",
      " [127625.73242188]]\n"
     ]
    }
   ],
   "source": [
    "z = np.polyfit(X.reshape(len(X,)), y, 6)\n",
    "print(z)"
   ]
  },
  {
   "cell_type": "markdown",
   "metadata": {},
   "source": [
    "## Polinomio de orden 8 sobreajuste"
   ]
  },
  {
   "cell_type": "code",
   "execution_count": 9,
   "metadata": {},
   "outputs": [
    {
     "name": "stdout",
     "output_type": "stream",
     "text": [
      "(9, 1)\n"
     ]
    },
    {
     "data": {
      "image/png": "[encoded data removed]",
      "text/plain": [
       "<Figure size 432x288 with 1 Axes>"
      ]
     },
     "metadata": {
      "needs_background": "light"
     },
     "output_type": "display_data"
    }
   ],
   "source": [
    "theta=np.array((random.randrange(-10, 10), \n",
    "                random.randrange(-10, 10), \n",
    "                random.randrange(-10,10), \n",
    "                random.randrange(-10,10), \n",
    "                random.randrange(-10,10), \n",
    "                random.randrange(-10,10),\n",
    "                random.randrange(-10,10),\n",
    "                random.randrange(-10,10),\n",
    "                random.randrange(-10,10)))\n",
    "theta=np.reshape(theta,(len(theta),1))\n",
    "print(theta.shape)\n",
    "lr = 1e-3\n",
    "epochs=300\n",
    "X_b=np.c_[np.ones((len(X),1)),X,X**2,X**3,X**4,X**5,X**6,X**7,X**8]\n",
    "y=np.reshape(y,(len(y),1))\n",
    "j_cost= np.zeros([epochs])\n",
    "\n",
    "for i in range(epochs):\n",
    "    pred= np.dot(X_b,theta)\n",
    "    arg=pred - y\n",
    "    grad= X_b.T.dot(arg)\n",
    "    theta = theta -lr*grad\n",
    "    j_cost[i]=np.sum(np.square(arg))\n",
    "\n",
    "fig = plt.figure()\n",
    "plt.plot(j_cost)\n",
    "plt.show()"
   ]
  },
  {
   "cell_type": "code",
   "execution_count": 10,
   "metadata": {},
   "outputs": [
    {
     "name": "stdout",
     "output_type": "stream",
     "text": [
      "(314, 9)\n"
     ]
    },
    {
     "data": {
      "image/png": "[encoded data removed]",
      "text/plain": [
       "<Figure size 720x432 with 1 Axes>"
      ]
     },
     "metadata": {
      "needs_background": "light"
     },
     "output_type": "display_data"
    },
    {
     "name": "stdout",
     "output_type": "stream",
     "text": [
      "[[-2.38331407e+107]\n",
      " [ 4.44132522e+091]\n",
      " [-5.47937819e+107]\n",
      " [ 1.32081393e+092]\n",
      " [-1.29542521e+108]\n",
      " [ 2.41927440e+092]\n",
      " [-3.10946306e+108]\n",
      " [-2.74445226e+092]\n",
      " [-7.53041897e+108]]\n"
     ]
    }
   ],
   "source": [
    "X_grid = np.arange(min(X),max(X),0.01)\n",
    "X_grid = X_grid.reshape(len(X_grid),1)\n",
    "Xt=X_grid\n",
    "X_grid =np.c_[np.ones((len(X_grid ),1)),X_grid ,X_grid **2,X_grid **3,X_grid **4,\n",
    "              X_grid **5,X_grid **6,X_grid **7,X_grid **8]\n",
    "print(X_grid.shape)\n",
    "pred= np.dot(X_grid,theta)\n",
    "plt.figure(figsize=(10,6))\n",
    "plt.plot(X, y, 'g+', label = 'original data')\n",
    "plt.plot(Xt, pred, 'b', label = 'prediction')\n",
    "plt.title('Original data vs prediction')\n",
    "plt.legend(loc=\"lower right\")\n",
    "plt.show()\n",
    "print(theta)"
   ]
  },
  {
   "cell_type": "code",
   "execution_count": null,
   "metadata": {},
   "outputs": [],
   "source": []
  }
 ],
 "metadata": {
  "kernelspec": {
   "display_name": "Python 3 (ipykernel)",
   "language": "python",
   "name": "python3"
  },
  "language_info": {
   "codemirror_mode": {
    "name": "ipython",
    "version": 3
   },
   "file_extension": ".py",
   "mimetype": "text/x-python",
   "name": "python",
   "nbconvert_exporter": "python",
   "pygments_lexer": "ipython3",
   "version": "3.10.9"
  }
 },
 "nbformat": 4,
 "nbformat_minor": 4
}
