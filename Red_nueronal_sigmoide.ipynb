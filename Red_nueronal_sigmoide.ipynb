{
 "cells": [
  {
   "cell_type": "code",
   "execution_count": 1,
   "id": "a39ebef2-2f1d-4818-854a-da28cfb8d442",
   "metadata": {},
   "outputs": [],
   "source": [
    "import numpy as np"
   ]
  },
  {
   "cell_type": "code",
   "execution_count": 10,
   "id": "4a8e3844-32c3-4412-bbb6-33abbebd60fb",
   "metadata": {},
   "outputs": [],
   "source": [
    "##Capa fully-connected\n",
    "def sigmoide(x):\n",
    "    return 1/(1+np.exp**(-x))\n",
    "\n",
    "def dense_forward(x,w):\n",
    "    output=np.dot(x,w)\n",
    "    return output\n",
    "\n",
    "def dense_backward(output,dLds):\n",
    "    grad_local= output*(1-output)\n",
    "    gradient=grad_local*dLds\n",
    "    return gradient"
   ]
  },
  {
   "cell_type": "code",
   "execution_count": 11,
   "id": "7106b179-8b89-4431-bb3c-0ce221b967a8",
   "metadata": {},
   "outputs": [],
   "source": [
    "##Capa de activación \n",
    "\n",
    "def sigmoide(x):\n",
    "    return 1/(1+np.exp**(-x))\n",
    "\n",
    "def act_forward(a):\n",
    "    output=sigmoide(a)\n",
    "    return output\n",
    "\n",
    "def act_backward(output,dLds):\n",
    "    grad_local= output*(1-output)\n",
    "    gradient=grad_local*dLds\n",
    "    return gradient"
   ]
  },
  {
   "cell_type": "code",
   "execution_count": 12,
   "id": "ea251080-9fac-4191-bc25-ec5b756b57a3",
   "metadata": {},
   "outputs": [],
   "source": [
    "x=np.array([1,2,3,4])\n",
    "w1=np.random.rand(4,4)\n",
    "w2=np.random.rand(2,4)"
   ]
  },
  {
   "cell_type": "code",
   "execution_count": 18,
   "id": "491e9ca8-4ff1-439d-987d-3832c1ac4e59",
   "metadata": {},
   "outputs": [
    {
     "name": "stdout",
     "output_type": "stream",
     "text": [
      "3.6236681372844757\n"
     ]
    },
    {
     "data": {
      "text/plain": [
       "array([5.18133887, 2.57663951, 3.04551048, 4.89089821])"
      ]
     },
     "execution_count": 18,
     "metadata": {},
     "output_type": "execute_result"
    }
   ],
   "source": [
    "print(np.sum(w1[0,:]*x))\n",
    "dense_forward(x,w1)"
   ]
  },
  {
   "cell_type": "code",
   "execution_count": null,
   "id": "f0f71198-14b1-4676-97ec-c170a8545918",
   "metadata": {},
   "outputs": [],
   "source": []
  }
 ],
 "metadata": {
  "kernelspec": {
   "display_name": "Python 3 (ipykernel)",
   "language": "python",
   "name": "python3"
  },
  "language_info": {
   "codemirror_mode": {
    "name": "ipython",
    "version": 3
   },
   "file_extension": ".py",
   "mimetype": "text/x-python",
   "name": "python",
   "nbconvert_exporter": "python",
   "pygments_lexer": "ipython3",
   "version": "3.8.8"
  }
 },
 "nbformat": 4,
 "nbformat_minor": 5
}
