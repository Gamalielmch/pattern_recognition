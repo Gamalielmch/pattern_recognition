{
 "cells": [
  {
   "cell_type": "code",
   "execution_count": 1,
   "id": "d5ec88d4-d778-4adf-9b9d-30564c908840",
   "metadata": {},
   "outputs": [
    {
     "name": "stdout",
     "output_type": "stream",
     "text": [
      "Requirement already satisfied: rembg in c:\\users\\coyul\\anaconda3\\envs\\remove\\lib\\site-packages (2.0.35)\n",
      "Requirement already satisfied: pymatting>=1.1.8 in c:\\users\\coyul\\anaconda3\\envs\\remove\\lib\\site-packages (from rembg) (1.1.8)\n",
      "Requirement already satisfied: imagehash>=4.3.1 in c:\\users\\coyul\\anaconda3\\envs\\remove\\lib\\site-packages (from rembg) (4.3.1)\n",
      "Requirement already satisfied: scipy>=1.9.3 in c:\\users\\coyul\\anaconda3\\envs\\remove\\lib\\site-packages (from rembg) (1.10.1)\n",
      "Requirement already satisfied: watchdog>=2.1.9 in c:\\users\\coyul\\anaconda3\\envs\\remove\\lib\\site-packages (from rembg) (3.0.0)\n",
      "Requirement already satisfied: opencv-python-headless>=4.6.0.66 in c:\\users\\coyul\\anaconda3\\envs\\remove\\lib\\site-packages (from rembg) (4.7.0.72)\n",
      "Requirement already satisfied: pooch>=1.6.0 in c:\\users\\coyul\\anaconda3\\envs\\remove\\lib\\site-packages (from rembg) (1.7.0)\n",
      "Requirement already satisfied: uvicorn>=0.20.0 in c:\\users\\coyul\\anaconda3\\envs\\remove\\lib\\site-packages (from rembg) (0.22.0)\n",
      "Requirement already satisfied: asyncer>=0.0.2 in c:\\users\\coyul\\anaconda3\\envs\\remove\\lib\\site-packages (from rembg) (0.0.2)\n",
      "Requirement already satisfied: pillow>=9.3.0 in c:\\users\\coyul\\anaconda3\\envs\\remove\\lib\\site-packages (from rembg) (9.5.0)\n",
      "Requirement already satisfied: filetype>=1.2.0 in c:\\users\\coyul\\anaconda3\\envs\\remove\\lib\\site-packages (from rembg) (1.2.0)\n",
      "Requirement already satisfied: tqdm>=4.64.1 in c:\\users\\coyul\\anaconda3\\envs\\remove\\lib\\site-packages (from rembg) (4.65.0)\n",
      "Requirement already satisfied: click>=8.1.3 in c:\\users\\coyul\\anaconda3\\envs\\remove\\lib\\site-packages (from rembg) (8.1.3)\n",
      "Requirement already satisfied: python-multipart>=0.0.5 in c:\\users\\coyul\\anaconda3\\envs\\remove\\lib\\site-packages (from rembg) (0.0.6)\n",
      "Requirement already satisfied: scikit-image>=0.19.3 in c:\\users\\coyul\\anaconda3\\envs\\remove\\lib\\site-packages (from rembg) (0.19.3)\n",
      "Requirement already satisfied: fastapi>=0.92.0 in c:\\users\\coyul\\anaconda3\\envs\\remove\\lib\\site-packages (from rembg) (0.95.1)\n",
      "Requirement already satisfied: aiohttp>=3.8.1 in c:\\users\\coyul\\anaconda3\\envs\\remove\\lib\\site-packages (from rembg) (3.8.4)\n",
      "Requirement already satisfied: onnxruntime>=1.14.1 in c:\\users\\coyul\\anaconda3\\envs\\remove\\lib\\site-packages (from rembg) (1.14.1)\n",
      "Requirement already satisfied: numpy>=1.23.5 in c:\\users\\coyul\\anaconda3\\envs\\remove\\lib\\site-packages (from rembg) (1.23.5)\n",
      "Requirement already satisfied: yarl<2.0,>=1.0 in c:\\users\\coyul\\anaconda3\\envs\\remove\\lib\\site-packages (from aiohttp>=3.8.1->rembg) (1.9.2)\n",
      "Requirement already satisfied: aiosignal>=1.1.2 in c:\\users\\coyul\\anaconda3\\envs\\remove\\lib\\site-packages (from aiohttp>=3.8.1->rembg) (1.3.1)\n",
      "Requirement already satisfied: charset-normalizer<4.0,>=2.0 in c:\\users\\coyul\\appdata\\roaming\\python\\python38\\site-packages (from aiohttp>=3.8.1->rembg) (2.0.7)\n",
      "Requirement already satisfied: attrs>=17.3.0 in c:\\users\\coyul\\anaconda3\\envs\\remove\\lib\\site-packages (from aiohttp>=3.8.1->rembg) (23.1.0)\n",
      "Requirement already satisfied: multidict<7.0,>=4.5 in c:\\users\\coyul\\anaconda3\\envs\\remove\\lib\\site-packages (from aiohttp>=3.8.1->rembg) (6.0.4)\n",
      "Requirement already satisfied: frozenlist>=1.1.1 in c:\\users\\coyul\\anaconda3\\envs\\remove\\lib\\site-packages (from aiohttp>=3.8.1->rembg) (1.3.3)\n",
      "Requirement already satisfied: async-timeout<5.0,>=4.0.0a3 in c:\\users\\coyul\\anaconda3\\envs\\remove\\lib\\site-packages (from aiohttp>=3.8.1->rembg) (4.0.2)\n",
      "Requirement already satisfied: anyio<4.0.0,>=3.4.0 in c:\\users\\coyul\\anaconda3\\envs\\remove\\lib\\site-packages (from asyncer>=0.0.2->rembg) (3.6.2)\n",
      "Requirement already satisfied: colorama in c:\\users\\coyul\\anaconda3\\envs\\remove\\lib\\site-packages (from click>=8.1.3->rembg) (0.4.6)\n",
      "Requirement already satisfied: starlette<0.27.0,>=0.26.1 in c:\\users\\coyul\\anaconda3\\envs\\remove\\lib\\site-packages (from fastapi>=0.92.0->rembg) (0.26.1)\n",
      "Requirement already satisfied: pydantic!=1.7,!=1.7.1,!=1.7.2,!=1.7.3,!=1.8,!=1.8.1,<2.0.0,>=1.6.2 in c:\\users\\coyul\\anaconda3\\envs\\remove\\lib\\site-packages (from fastapi>=0.92.0->rembg) (1.10.7)\n",
      "Requirement already satisfied: PyWavelets in c:\\users\\coyul\\anaconda3\\envs\\remove\\lib\\site-packages (from imagehash>=4.3.1->rembg) (1.4.1)\n",
      "Requirement already satisfied: sympy in c:\\users\\coyul\\anaconda3\\envs\\remove\\lib\\site-packages (from onnxruntime>=1.14.1->rembg) (1.11.1)\n",
      "Requirement already satisfied: coloredlogs in c:\\users\\coyul\\anaconda3\\envs\\remove\\lib\\site-packages (from onnxruntime>=1.14.1->rembg) (15.0.1)\n",
      "Requirement already satisfied: protobuf in c:\\users\\coyul\\appdata\\roaming\\python\\python38\\site-packages (from onnxruntime>=1.14.1->rembg) (3.19.1)\n",
      "Requirement already satisfied: packaging in c:\\users\\coyul\\anaconda3\\envs\\remove\\lib\\site-packages (from onnxruntime>=1.14.1->rembg) (23.1)\n",
      "Requirement already satisfied: flatbuffers in c:\\users\\coyul\\appdata\\roaming\\python\\python38\\site-packages (from onnxruntime>=1.14.1->rembg) (2.0)\n",
      "Requirement already satisfied: requests>=2.19.0 in c:\\users\\coyul\\appdata\\roaming\\python\\python38\\site-packages (from pooch>=1.6.0->rembg) (2.26.0)\n",
      "Requirement already satisfied: platformdirs>=2.5.0 in c:\\users\\coyul\\anaconda3\\envs\\remove\\lib\\site-packages (from pooch>=1.6.0->rembg) (3.5.0)\n",
      "Requirement already satisfied: numba!=0.49.0 in c:\\users\\coyul\\anaconda3\\envs\\remove\\lib\\site-packages (from pymatting>=1.1.8->rembg) (0.56.4)\n",
      "Requirement already satisfied: imageio>=2.4.1 in c:\\users\\coyul\\anaconda3\\envs\\remove\\lib\\site-packages (from scikit-image>=0.19.3->rembg) (2.28.0)\n",
      "Requirement already satisfied: tifffile>=2019.7.26 in c:\\users\\coyul\\anaconda3\\envs\\remove\\lib\\site-packages (from scikit-image>=0.19.3->rembg) (2023.4.12)\n",
      "Requirement already satisfied: networkx>=2.2 in c:\\users\\coyul\\anaconda3\\envs\\remove\\lib\\site-packages (from scikit-image>=0.19.3->rembg) (3.1)\n",
      "Requirement already satisfied: h11>=0.8 in c:\\users\\coyul\\anaconda3\\envs\\remove\\lib\\site-packages (from uvicorn>=0.20.0->rembg) (0.14.0)\n",
      "Requirement already satisfied: sniffio>=1.1 in c:\\users\\coyul\\anaconda3\\envs\\remove\\lib\\site-packages (from anyio<4.0.0,>=3.4.0->asyncer>=0.0.2->rembg) (1.3.0)\n",
      "Requirement already satisfied: idna>=2.8 in c:\\users\\coyul\\appdata\\roaming\\python\\python38\\site-packages (from anyio<4.0.0,>=3.4.0->asyncer>=0.0.2->rembg) (3.3)\n",
      "Requirement already satisfied: setuptools in c:\\users\\coyul\\appdata\\roaming\\python\\python38\\site-packages (from numba!=0.49.0->pymatting>=1.1.8->rembg) (59.2.0)\n",
      "Requirement already satisfied: llvmlite<0.40,>=0.39.0dev0 in c:\\users\\coyul\\anaconda3\\envs\\remove\\lib\\site-packages (from numba!=0.49.0->pymatting>=1.1.8->rembg) (0.39.1)\n",
      "Requirement already satisfied: importlib-metadata in c:\\users\\coyul\\appdata\\roaming\\python\\python38\\site-packages (from numba!=0.49.0->pymatting>=1.1.8->rembg) (4.8.2)\n",
      "Requirement already satisfied: typing-extensions>=4.2.0 in c:\\users\\coyul\\anaconda3\\envs\\remove\\lib\\site-packages (from pydantic!=1.7,!=1.7.1,!=1.7.2,!=1.7.3,!=1.8,!=1.8.1,<2.0.0,>=1.6.2->fastapi>=0.92.0->rembg) (4.5.0)\n",
      "Requirement already satisfied: certifi>=2017.4.17 in c:\\users\\coyul\\appdata\\roaming\\python\\python38\\site-packages (from requests>=2.19.0->pooch>=1.6.0->rembg) (2021.10.8)\n",
      "Requirement already satisfied: urllib3<1.27,>=1.21.1 in c:\\users\\coyul\\appdata\\roaming\\python\\python38\\site-packages (from requests>=2.19.0->pooch>=1.6.0->rembg) (1.26.7)\n",
      "Requirement already satisfied: humanfriendly>=9.1 in c:\\users\\coyul\\anaconda3\\envs\\remove\\lib\\site-packages (from coloredlogs->onnxruntime>=1.14.1->rembg) (10.0)\n",
      "Requirement already satisfied: mpmath>=0.19 in c:\\users\\coyul\\anaconda3\\envs\\remove\\lib\\site-packages (from sympy->onnxruntime>=1.14.1->rembg) (1.3.0)\n",
      "Requirement already satisfied: pyreadline3 in c:\\users\\coyul\\anaconda3\\envs\\remove\\lib\\site-packages (from humanfriendly>=9.1->coloredlogs->onnxruntime>=1.14.1->rembg) (3.4.1)\n",
      "Requirement already satisfied: zipp>=0.5 in c:\\users\\coyul\\appdata\\roaming\\python\\python38\\site-packages (from importlib-metadata->numba!=0.49.0->pymatting>=1.1.8->rembg) (3.6.0)\n",
      "Note: you may need to restart the kernel to use updated packages.\n"
     ]
    }
   ],
   "source": [
    "pip install rembg"
   ]
  },
  {
   "cell_type": "code",
   "execution_count": null,
   "id": "21134803-03b3-4241-a6de-f5685d4a1c9a",
   "metadata": {},
   "outputs": [],
   "source": [
    "from rembg import remove\n",
    "from PIL import Image\n",
    "\n",
    "input_path = 'input.png'\n",
    "output_path = 'output.png'\n",
    "\n",
    "input = Image.open(input_path)\n",
    "output = remove(input)\n",
    "output.save(output_path)"
   ]
  }
 ],
 "metadata": {
  "kernelspec": {
   "display_name": "Python 3 (ipykernel)",
   "language": "python",
   "name": "python3"
  },
  "language_info": {
   "codemirror_mode": {
    "name": "ipython",
    "version": 3
   },
   "file_extension": ".py",
   "mimetype": "text/x-python",
   "name": "python",
   "nbconvert_exporter": "python",
   "pygments_lexer": "ipython3",
   "version": "3.8.16"
  }
 },
 "nbformat": 4,
 "nbformat_minor": 5
}
