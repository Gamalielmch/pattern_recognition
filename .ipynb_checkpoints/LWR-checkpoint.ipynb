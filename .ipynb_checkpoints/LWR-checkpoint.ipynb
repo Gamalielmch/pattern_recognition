{
 "cells": [
  {
   "cell_type": "code",
   "execution_count": 1,
   "id": "2ff39df3-9a81-4cf7-9b7f-5aad5839e7aa",
   "metadata": {},
   "outputs": [
    {
     "name": "stderr",
     "output_type": "stream",
     "text": [
      "C:\\Users\\coyul\\anaconda3\\lib\\site-packages\\numpy\\_distributor_init.py:30: UserWarning: loaded more than 1 DLL from .libs:\n",
      "C:\\Users\\coyul\\anaconda3\\lib\\site-packages\\numpy\\.libs\\libopenblas.FB5AE2TYXYH2IJRDKGDGQ3XBKLKTF43H.gfortran-win_amd64.dll\n",
      "C:\\Users\\coyul\\anaconda3\\lib\\site-packages\\numpy\\.libs\\libopenblas.WCDJNK7YVMPZQ2ME2ZZHJJRJ3JIKNDB7.gfortran-win_amd64.dll\n",
      "  warnings.warn(\"loaded more than 1 DLL from .libs:\"\n"
     ]
    }
   ],
   "source": [
    "# Necessary imports\n",
    "import numpy as np\n",
    "from ipywidgets import interact\n",
    "import matplotlib.pyplot as plt\n",
    "from bokeh.plotting import figure, show, output_notebook\n",
    "from bokeh.layouts import gridplot"
   ]
  },
  {
   "cell_type": "code",
   "execution_count": 2,
   "id": "8a0f1048-dd87-4db1-a4f2-ce2832b6dd67",
   "metadata": {},
   "outputs": [
    {
     "data": {
      "image/png": "[encoded data removed]",
      "text/plain": [
       "<Figure size 432x288 with 1 Axes>"
      ]
     },
     "metadata": {
      "needs_background": "light"
     },
     "output_type": "display_data"
    }
   ],
   "source": [
    "%matplotlib inline\n",
    "np.random.seed(8)\n",
    "X = np.random.randn(300,1)\n",
    "y = 2*(X**3) + 10 + 4.6*np.random.randn(300,1)\n",
    "plt.plot(X,y,'b.')\n",
    "plt.title(\"Random data\")\n",
    "plt.xlabel('x')\n",
    "plt.ylabel('y')\n",
    "plt.show()"
   ]
  },
  {
   "cell_type": "code",
   "execution_count": 3,
   "id": "5b6ddeb3-bfd6-4d4e-8613-072b36842267",
   "metadata": {},
   "outputs": [],
   "source": [
    "def wm(point, X, tau): \n",
    "    \n",
    "  # tau --> bandwidth\n",
    "  # X --> Training data.\n",
    "  # point --> the x where we want to make the prediction.\n",
    "    \n",
    "  # m is the No of training examples .\n",
    "    m = X.shape[0] \n",
    "    \n",
    "  # Initialising W as an identity matrix.\n",
    "    w = np.mat(np.eye(m)) \n",
    "    \n",
    "  # Calculating weights for all training examples [x(i)'s].\n",
    "    for i in range(m): \n",
    "        xi = X[i] \n",
    "        d = (-2 * tau * tau) \n",
    "        w[i, i] = np.exp(np.dot((xi-point), (xi-point).T)/d) \n",
    "\n",
    "    return w"
   ]
  },
  {
   "cell_type": "code",
   "execution_count": 4,
   "id": "cba4a9d0-b72f-4d84-9831-75fbb51e0898",
   "metadata": {},
   "outputs": [],
   "source": [
    "def predict(X, y, point, tau): \n",
    "    \n",
    "   # m = number of training examples. \n",
    "    m = X.shape[0] \n",
    "    \n",
    "   # Appending a cloumn of ones in X to add the bias term.\n",
    "## # Just one parameter: theta, that's why adding a column of ones        #### to X and also adding a 1 for the point where we want to          #### predict. \n",
    "    X_ = np.append(X, np.ones(m).reshape(m,1), axis=1) \n",
    "    \n",
    "   # point is the x where we want to make the prediction. \n",
    "    point_ = np.array([point, 1]) \n",
    "   # Calculating the weight matrix using the wm function we wrote      #  # earlier. \n",
    "    w = wm(point_, X_, tau) \n",
    "    \n",
    "  # Calculating parameter theta using the formula.\n",
    "    theta = np.linalg.pinv(X_.T*(w * X_))*(X_.T*(w * y)) \n",
    "    \n",
    "  # Calculating predictions.  \n",
    "    pred = np.dot(point_, theta) \n",
    "    \n",
    "   # Returning the theta and predictions \n",
    "    return theta, pred"
   ]
  },
  {
   "cell_type": "code",
   "execution_count": 5,
   "id": "c31cf48e-6582-4e73-aeb5-1088c62e4699",
   "metadata": {},
   "outputs": [
    {
     "data": {
      "image/png": "[encoded data removed]",
      "text/plain": [
       "<Figure size 432x288 with 1 Axes>"
      ]
     },
     "metadata": {
      "needs_background": "light"
     },
     "output_type": "display_data"
    }
   ],
   "source": [
    "def plot_predictions(X, y, tau, nval):\n",
    "   # X --> Training data. \n",
    "   # y --> Output sequence.\n",
    "   # nval --> number of values/points for which we are going to\n",
    "   # predict.\n",
    "   # tau --> the bandwidth.     \n",
    "    # The values for which we are going to predict.\n",
    "   # X_test includes nval evenly spaced values in the domain of X.\n",
    "    X_test = np.linspace(-3, 3, nval) \n",
    " \n",
    "   # Empty list for storing predictions. \n",
    "    preds = [] \n",
    "    \n",
    "   # Predicting for all nval values and storing them in preds. \n",
    "    for point in X_test: \n",
    "        theta, pred = predict(X, y, point, tau) \n",
    "        preds.append(pred)\n",
    "        \n",
    "   # Reshaping X_test and preds\n",
    "    X_test = np.array(X_test).reshape(nval,1)\n",
    "    preds = np.array(preds).reshape(nval,1)\n",
    "    \n",
    "   # Plotting \n",
    "    plt.plot(X, y, 'b.')\n",
    "    plt.plot(X_test, preds, 'r') # Predictions in red color.\n",
    "    plt.show()\n",
    "\n",
    "plot_predictions(X, y, 0.1, 100)"
   ]
  },
  {
   "cell_type": "code",
   "execution_count": null,
   "id": "7eec085f-84de-4f6f-9616-953a6ba0e072",
   "metadata": {},
   "outputs": [],
   "source": []
  },
  {
   "cell_type": "code",
   "execution_count": null,
   "id": "f8e2011b-e40d-4e62-9f32-3c4775cd9777",
   "metadata": {},
   "outputs": [],
   "source": []
  },
  {
   "cell_type": "code",
   "execution_count": null,
   "id": "8eaf0aab-6e04-4cbc-b5b5-8dccaeea8af9",
   "metadata": {},
   "outputs": [],
   "source": []
  }
 ],
 "metadata": {
  "kernelspec": {
   "display_name": "Python 3 (ipykernel)",
   "language": "python",
   "name": "python3"
  },
  "language_info": {
   "codemirror_mode": {
    "name": "ipython",
    "version": 3
   },
   "file_extension": ".py",
   "mimetype": "text/x-python",
   "name": "python",
   "nbconvert_exporter": "python",
   "pygments_lexer": "ipython3",
   "version": "3.8.8"
  }
 },
 "nbformat": 4,
 "nbformat_minor": 5
}
