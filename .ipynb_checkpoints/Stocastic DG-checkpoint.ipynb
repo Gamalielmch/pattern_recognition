{
 "cells": [
  {
   "cell_type": "code",
   "execution_count": 9,
   "metadata": {},
   "outputs": [],
   "source": [
    "import numpy as np\n",
    "import matplotlib.pyplot as plt\n",
    "from mpl_toolkits.mplot3d import Axes3D\n",
    "import pandas as pd\n",
    "from sklearn.metrics import r2_score\n",
    "import sys\n",
    "%matplotlib qt"
   ]
  },
  {
   "cell_type": "code",
   "execution_count": 10,
   "metadata": {},
   "outputs": [
    {
     "data": {
      "text/plain": [
       "Text(0.5, 0, 'chlorides')"
      ]
     },
     "execution_count": 10,
     "metadata": {},
     "output_type": "execute_result"
    }
   ],
   "source": [
    "df = pd.read_csv('poverty.csv')\n",
    "X = df[['PovPct', 'ViolCrime']]\n",
    "X = X.to_numpy()\n",
    "y = df['TeenBrth']\n",
    "y = y.to_numpy()\n",
    "fig = plt.figure()\n",
    "ax = fig.add_subplot(111, projection='3d')\n",
    "ax.scatter(X[:,0], X[:,1], y, c='r', marker='o')\n",
    "ax.set_xlabel('alcohol',fontsize=12)\n",
    "ax.set_ylabel('citric acid',fontsize=12)\n",
    "ax.set_zlabel('chlorides',fontsize=12)"
   ]
  },
  {
   "cell_type": "code",
   "execution_count": 17,
   "metadata": {},
   "outputs": [
    {
     "name": "stdout",
     "output_type": "stream",
     "text": [
      "0.4457367857654936\n",
      "[[49.65930237 54.5       ]\n",
      " [30.00855384 39.5       ]\n",
      " [43.54947168 61.2       ]\n",
      " [41.81549905 59.9       ]\n",
      " [44.74637992 41.1       ]\n",
      " [31.10408712 47.        ]\n",
      " [31.90968371 25.8       ]\n",
      " [32.32302737 46.3       ]\n",
      " [74.59200851 69.1       ]\n",
      " [42.41552194 44.5       ]\n",
      " [37.39840076 55.7       ]\n",
      " [32.81791026 38.2       ]\n",
      " [38.63937302 39.1       ]\n",
      " [38.16181584 42.2       ]\n",
      " [33.16735417 44.6       ]\n",
      " [34.36739994 32.5       ]\n",
      " [34.15900247 43.        ]\n",
      " [40.20681591 51.        ]\n",
      " [51.47324545 58.1       ]\n",
      " [33.00490323 25.4       ]\n",
      " [35.45697191 35.4       ]\n",
      " [33.37575165 23.3       ]\n",
      " [37.13049607 34.8       ]\n",
      " [30.89851343 27.5       ]\n",
      " [55.2733089  64.7       ]\n",
      " [33.20828066 44.1       ]\n",
      " [39.34171212 36.4       ]\n",
      " [31.0641019  37.        ]\n",
      " [36.44830645 53.9       ]\n",
      " [24.39705733 20.        ]\n",
      " [29.37042825 26.8       ]\n",
      " [56.18341798 62.4       ]\n",
      " [43.34389799 29.5       ]\n",
      " [38.07964911 52.2       ]\n",
      " [33.70724234 27.2       ]\n",
      " [34.84056457 39.5       ]\n",
      " [45.7367732  58.        ]\n",
      " [33.87094829 36.8       ]\n",
      " [36.22321077 31.6       ]\n",
      " [32.67404005 35.6       ]\n",
      " [48.00937899 53.        ]\n",
      " [37.69084748 38.        ]\n",
      " [42.76496585 54.3       ]\n",
      " [44.85057866 64.4       ]\n",
      " [29.74253168 36.8       ]\n",
      " [31.78690424 24.2       ]\n",
      " [33.86937952 37.6       ]\n",
      " [36.16182104 33.        ]\n",
      " [42.14824476 45.5       ]\n",
      " [30.05199036 32.3       ]\n",
      " [34.49112067 39.9       ]]\n"
     ]
    }
   ],
   "source": [
    "x_b = np.c_[np.ones((len(X),1)),X]\n",
    "nf,nc=x_b.shape\n",
    "x_bs=x_b\n",
    "for it in range(1,nc):\n",
    "    m=np.mean(x_b[:,it])\n",
    "    std=np.std(x_b[:,it])\n",
    "    x_bs[:,it]=(x_b[:,it]-m)/std\n",
    "    \n",
    "N=len(y)\n",
    "theta = np.array([[-10],[-10],[-10]])\n",
    "ep=1e-4\n",
    "lr =1e-4\n",
    "n_iter = 500\n",
    "j_cost= np.zeros([n_iter])\n",
    "y=y.reshape((len(y), 1))\n",
    "\n",
    "for it in range(n_iter):\n",
    "    #Gradient\n",
    "    pred = np.dot(x_bs,theta)\n",
    "    h=(pred - y)\n",
    "    si=-lr*(x_bs.T.dot(h))\n",
    "    theta = theta + si;\n",
    "    j_cost[it]=np.sum(np.square(h))\n",
    "\n",
    "print(r2_score(y, pred))\n",
    "pred = np.dot(x_bs,theta)\n",
    "print(np.c_[pred,y])  \n",
    "fig = plt.figure()\n",
    "plt.plot(j_cost)\n",
    "plt.show()\n",
    "# print(np.c_[pred,y,h])\n",
    "# print(\"Iterations: %d\" %it)\n",
    "# print(\"DG:  \\n theta_0=%f \\n theta_1=%f, \\n theta_2=%f\" %(theta[0],theta[1],theta[2]))   "
   ]
  },
  {
   "cell_type": "code",
   "execution_count": 12,
   "metadata": {},
   "outputs": [
    {
     "data": {
      "text/plain": [
       "Text(0.5, 0, 'chlorides')"
      ]
     },
     "execution_count": 12,
     "metadata": {},
     "output_type": "execute_result"
    }
   ],
   "source": [
    "# %matplotlib qt\n",
    "xc = np.arange(np.min(x_bs[:,1]), np.max(x_bs[:,1]), 0.01)\n",
    "yc = np.arange(np.min(x_bs[:,2]), np.max(x_bs[:,2]), 0.01)\n",
    "plane=np.zeros([len(xc),len(yc)])\n",
    "B, M = np.meshgrid(yc, xc)\n",
    "\n",
    "for i in range(len(xc)):\n",
    "    for j in range(len(yc)):\n",
    "        plane[i,j]=np.dot(np.c_[1,xc[i],yc[j]],theta)\n",
    "\n",
    "fig = plt.figure()\n",
    "ax = fig.add_subplot(111, projection='3d')\n",
    "surf = ax.plot_surface(B,M, plane,\n",
    "                       linewidth=0, antialiased=False)\n",
    "ax.scatter(x_bs[:,1], x_bs[:,2], y, c='r', marker='o')\n",
    "ax.set_xlabel('alcohol',fontsize=12)\n",
    "ax.set_ylabel('citric acid',fontsize=12)\n",
    "ax.set_zlabel('chlorides',fontsize=12)"
   ]
  },
  {
   "cell_type": "code",
   "execution_count": 18,
   "metadata": {},
   "outputs": [
    {
     "name": "stdout",
     "output_type": "stream",
     "text": [
      "0.5604442642606717\n",
      "[[54.52612243 54.5       ]\n",
      " [32.81889744 39.5       ]\n",
      " [47.78310554 61.2       ]\n",
      " [45.85983883 59.9       ]\n",
      " [49.07686675 41.1       ]\n",
      " [34.17349789 47.        ]\n",
      " [35.11775614 25.8       ]\n",
      " [35.6227137  46.3       ]\n",
      " [79.90689285 69.1       ]\n",
      " [46.65638233 44.5       ]\n",
      " [40.99857267 55.7       ]\n",
      " [36.12090548 38.2       ]\n",
      " [42.60324308 39.1       ]\n",
      " [41.8115172  42.2       ]\n",
      " [36.36902729 44.6       ]\n",
      " [37.96211431 32.5       ]\n",
      " [37.54500633 43.        ]\n",
      " [44.21078296 51.        ]\n",
      " [56.29296046 58.1       ]\n",
      " [36.44242401 25.4       ]\n",
      " [38.74799573 35.4       ]\n",
      " [36.78613526 23.3       ]\n",
      " [40.74368508 34.8       ]\n",
      " [34.02578314 27.5       ]\n",
      " [60.6811498  64.7       ]\n",
      " [36.38061069 44.1       ]\n",
      " [43.42874509 36.4       ]\n",
      " [34.25171223 37.        ]\n",
      " [39.89404219 53.9       ]\n",
      " [26.90333072 20.        ]\n",
      " [32.28016376 26.8       ]\n",
      " [61.86389462 62.4       ]\n",
      " [47.63539079 29.5       ]\n",
      " [41.75841781 52.2       ]\n",
      " [37.26792602 27.2       ]\n",
      " [38.33478406 39.5       ]\n",
      " [50.13311547 58.        ]\n",
      " [37.31425962 36.8       ]\n",
      " [39.83033348 31.6       ]\n",
      " [36.02049842 35.6       ]\n",
      " [52.83555058 53.        ]\n",
      " [41.6483755  38.        ]\n",
      " [46.90450415 54.3       ]\n",
      " [49.28542073 64.4       ]\n",
      " [32.74360533 36.8       ]\n",
      " [35.08300594 24.2       ]\n",
      " [37.16459672 37.6       ]\n",
      " [39.81295838 33.        ]\n",
      " [46.4613599  45.5       ]\n",
      " [33.06994149 32.3       ]\n",
      " [38.08666225 39.9       ]]\n"
     ]
    }
   ],
   "source": [
    "### Stochastic Gradient Descent\n",
    "m = len(y)\n",
    "lr =0.01\n",
    "n_iter = 500\n",
    "# theta = np.random.randn(3,1)\n",
    "theta = np.array([[-10],[-10],[-10]])\n",
    "j_cost= np.zeros([n_iter])\n",
    "for it in range(n_iter):\n",
    "    cost =0.0\n",
    "    for i in range(m):\n",
    "        rand_ind = np.random.randint(0,m)\n",
    "        X_i = x_bs[rand_ind,:].reshape(1,x_bs.shape[1])\n",
    "        y_i = y[rand_ind].reshape(1,1)\n",
    "        pred = np.dot(X_i,theta)\n",
    "        h=pred - y_i\n",
    "        theta = theta -(1/m)*lr*( X_i.T.dot((h)))\n",
    "        cost +=(1/2*m)*np.sum(np.square(h))\n",
    "    j_cost[it]=cost\n",
    "pred = np.dot(x_bs,theta)\n",
    "print(r2_score(y, pred))\n",
    "print(np.c_[pred,y])  \n",
    "fig = plt.figure()\n",
    "plt.plot(j_cost)\n",
    "plt.show()"
   ]
  },
  {
   "cell_type": "code",
   "execution_count": 18,
   "metadata": {},
   "outputs": [
    {
     "data": {
      "text/plain": [
       "Text(0.5, 0, 'chlorides')"
      ]
     },
     "execution_count": 18,
     "metadata": {},
     "output_type": "execute_result"
    }
   ],
   "source": [
    "%matplotlib qt\n",
    "plane=np.zeros([len(yc),len(xc)])\n",
    "B, M = np.meshgrid(xc, yc)\n",
    "\n",
    "for i in range(len(xc)):\n",
    "    for j in range(len(yc)):\n",
    "        plane[j,i]=np.dot(np.c_[1,xc[i],yc[j]],theta)\n",
    "\n",
    "fig = plt.figure()\n",
    "ax = fig.add_subplot(111, projection='3d')\n",
    "surf = ax.plot_surface(B,M, plane,\n",
    "                       linewidth=0, antialiased=False)\n",
    "ax.scatter(x_bs[:,1], x_bs[:,2], y, c='r', marker='o')\n",
    "ax.set_xlabel('alcohol',fontsize=12)\n",
    "ax.set_ylabel('citric acid',fontsize=12)\n",
    "ax.set_zlabel('chlorides',fontsize=12)"
   ]
  },
  {
   "cell_type": "code",
   "execution_count": null,
   "metadata": {},
   "outputs": [],
   "source": []
  }
 ],
 "metadata": {
  "kernelspec": {
   "display_name": "Python 3",
   "language": "python",
   "name": "python3"
  },
  "language_info": {
   "codemirror_mode": {
    "name": "ipython",
    "version": 3
   },
   "file_extension": ".py",
   "mimetype": "text/x-python",
   "name": "python",
   "nbconvert_exporter": "python",
   "pygments_lexer": "ipython3",
   "version": "3.8.8"
  }
 },
 "nbformat": 4,
 "nbformat_minor": 4
}
