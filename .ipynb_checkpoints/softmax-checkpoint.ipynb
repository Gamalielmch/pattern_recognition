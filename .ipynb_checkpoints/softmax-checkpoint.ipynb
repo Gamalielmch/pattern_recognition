{
 "cells": [
  {
   "cell_type": "code",
   "execution_count": null,
   "id": "ff5b198b-2b8b-488e-8f65-9f6d4346afbf",
   "metadata": {},
   "outputs": [],
   "source": [
    "import numpy as np\n",
    "import matplotlib.pyplot as plt\n",
    "import sklearn\n",
    "from sklearn.datasets import load_iris\n",
    "from sklearn.preprocessing import OneHotEncoder\n",
    "\n",
    "plt.style.use(['ggplot'])"
   ]
  },
  {
   "cell_type": "code",
   "execution_count": null,
   "id": "fadf67bb-7df7-4525-ac0a-60576261d514",
   "metadata": {},
   "outputs": [],
   "source": [
    "iris = load_iris()\n",
    "name=iris.feature_names\n",
    "name_tarjet=iris.target_names\n",
    "X = iris.data[:,[0,3]] \n",
    "y = iris.target\n",
    "\n",
    "fig, ax = plt.subplots(figsize=(8,5))\n",
    "for i in range(3):\n",
    "    ax.scatter(X[y==i,0],X[y==i,1])\n",
    "plt.xlabel(name[0])\n",
    "plt.ylabel(name[3])\n",
    "plt.legend(name_tarjet)\n",
    "plt.show()"
   ]
  },
  {
   "cell_type": "code",
   "execution_count": null,
   "id": "5d486b49-454d-41b8-965d-de4aae308bb8",
   "metadata": {},
   "outputs": [],
   "source": [
    "#### Preprocesing\n",
    "onehot_encoder = OneHotEncoder(sparse=False)\n",
    "y = y.reshape(len(y), 1)\n",
    "y_ohe= onehot_encoder.fit_transform(y)\n",
    "X_b = np.c_[np.ones((X.shape[0],1)),X]\n",
    " \n",
    "#### setup and initial values\n",
    "alpha=1e-3\n",
    "Theta=np.zeros((y_ohe.shape[1]-1, X.shape[1]+1))\n",
    "ite=1000"
   ]
  },
  {
   "cell_type": "code",
   "execution_count": null,
   "id": "1825b9ff-cd69-4b77-a561-aec8ddd0f538",
   "metadata": {},
   "outputs": [],
   "source": [
    "def hipotesis_rl(X,Theta):\n",
    "    val=np.exp(Theta @ X.T)\n",
    "    suma=np.sum(val,axis=0)+np.ones((X.shape[0]))\n",
    "    val=val/suma  \n",
    "    return val"
   ]
  },
  {
   "cell_type": "code",
   "execution_count": null,
   "id": "35fabbe8-1819-4d80-beb5-18cb6eaeef92",
   "metadata": {},
   "outputs": [],
   "source": [
    "for i in range(ite):\n",
    "    h=hipotesis_rl(X_b,Theta).T\n",
    "    grad=(h-y_ohe[:,0:2]).T@X_b\n",
    "    Theta=Theta-alpha*grad\n",
    "h=np.concatenate((h,(1-np.sum(h,axis=1)).reshape(len(h),1)),axis=1)\n",
    "# assig=np.argmax(h,axis=1)\n",
    "# for a,b in zip(assig,y): \n",
    "#     print(a, b)"
   ]
  },
  {
   "cell_type": "code",
   "execution_count": null,
   "id": "e9baa50a-6759-42e7-ab44-a946408d1275",
   "metadata": {},
   "outputs": [],
   "source": [
    "%matplotlib qt\n",
    "\n",
    "xc = np.arange(np.min(X_b[:,1]), np.max(X_b[:,1]), 0.01)\n",
    "yc = np.arange(np.min(X_b[:,2]), np.max(X_b[:,2]), 0.01)\n",
    "plane=np.zeros([len(xc),len(yc),2])\n",
    "\n",
    "\n",
    "for i in range(len(xc)):\n",
    "    for j in range(len(yc)):\n",
    "        plane[i,j,:]=hipotesis_rl(np.c_[1,xc[i],yc[j]],Theta).reshape(2,)\n",
    "B, M = np.meshgrid(yc, xc)\n",
    "fig = plt.figure()\n",
    "ax = fig.add_subplot(111, projection='3d')\n",
    "surf = ax.plot_surface(B,M, plane[:,:,0],\n",
    "                        linewidth=0, antialiased=False)\n",
    "surf = ax.plot_surface(B,M, plane[:,:,1],\n",
    "                        linewidth=0, antialiased=False)\n",
    "surf = ax.plot_surface(B,M, 1-plane[:,:,0]-plane[:,:,1],\n",
    "                        linewidth=0, antialiased=False)\n",
    "ax.scatter(X_b[:,2], X_b[:,1], y, c='r', marker='o')\n",
    "ax.set_xlabel('Weight',fontsize=12)\n",
    "ax.set_ylabel('Volume',fontsize=12)\n",
    "ax.set_zlabel('CO2',fontsize=12)"
   ]
  },
  {
   "cell_type": "code",
   "execution_count": null,
   "id": "43b1c731-efa4-4922-982d-7248905fb420",
   "metadata": {},
   "outputs": [],
   "source": []
  }
 ],
 "metadata": {
  "kernelspec": {
   "display_name": "Python 3 (ipykernel)",
   "language": "python",
   "name": "python3"
  },
  "language_info": {
   "codemirror_mode": {
    "name": "ipython",
    "version": 3
   },
   "file_extension": ".py",
   "mimetype": "text/x-python",
   "name": "python",
   "nbconvert_exporter": "python",
   "pygments_lexer": "ipython3",
   "version": "3.8.8"
  }
 },
 "nbformat": 4,
 "nbformat_minor": 5
}
