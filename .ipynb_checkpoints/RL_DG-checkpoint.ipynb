{
 "cells": [
  {
   "cell_type": "code",
   "execution_count": 1,
   "id": "b8b1c3bf-df5c-4e2b-95d6-dc6603690389",
   "metadata": {},
   "outputs": [],
   "source": [
    "import numpy as np\n",
    "import matplotlib.pyplot as plt\n",
    "import pandas as pd\n",
    "import math\n",
    "from fractions import Fraction as frac\n",
    "import sys"
   ]
  },
  {
   "cell_type": "code",
   "execution_count": 2,
   "id": "2e3d8ee6-d947-48a5-9dbe-c148770ebdff",
   "metadata": {},
   "outputs": [],
   "source": [
    "def generateXvector(X):\n",
    "    \"\"\" Taking the original independent variables matrix and add a row of 1 which corresponds to x_0\n",
    "        Parameters:\n",
    "          X:  independent variables matrix\n",
    "        Return value: the matrix that contains all the values in the dataset, not include the outcomes values \n",
    "    \"\"\"\n",
    "    vectorX = np.c_[np.ones((len(X), 1)), X]\n",
    "    return vectorX"
   ]
  },
  {
   "cell_type": "code",
   "execution_count": 3,
   "id": "acf37164-534b-4832-af0b-c7362674e933",
   "metadata": {},
   "outputs": [],
   "source": [
    "def theta_init(X):\n",
    "    \"\"\" Generate an initial value of vector θ from the original independent variables matrix\n",
    "         Parameters:\n",
    "          X:  independent variables matrix\n",
    "        Return value: a vector of theta filled with initial guess\n",
    "    \"\"\"\n",
    "    theta = np.random.randn(len(X[0])+1, 1)\n",
    "    return theta"
   ]
  },
  {
   "cell_type": "code",
   "execution_count": 4,
   "id": "04700778-e2f6-4227-a6c5-371bb45490ff",
   "metadata": {},
   "outputs": [],
   "source": [
    "def sigmoid_function(X):\n",
    "    \"\"\" Calculate the sigmoid value of the inputs\n",
    "         Parameters:\n",
    "          X:  values\n",
    "        Return value: the sigmoid value\n",
    "    \"\"\"\n",
    "    return 1/(1+math.e**(-X))"
   ]
  },
  {
   "cell_type": "code",
   "execution_count": 5,
   "id": "366b159a-675b-4732-ae73-303678e7251f",
   "metadata": {},
   "outputs": [],
   "source": [
    "def Logistics_Regression(X,y,learningrate, iterations):\n",
    "    \"\"\" Find the Logistics regression model for the data set\n",
    "         Parameters:\n",
    "          X: independent variables matrix\n",
    "          y: dependent variables matrix\n",
    "          learningrate: learningrate of Gradient Descent\n",
    "          iterations: the number of iterations\n",
    "        Return value: the final theta vector and the plot of cost function\n",
    "    \"\"\"\n",
    "    y_new = np.reshape(y, (len(y), 1))   \n",
    "    cost_lst = []\n",
    "    vectorX = generateXvector(X)\n",
    "    theta = theta_init(X)\n",
    "    m = len(X)\n",
    "    for i in range(iterations):\n",
    "        gradients = 2/m * vectorX.T.dot(sigmoid_function(vectorX.dot(theta)) - y_new)\n",
    "        theta = theta - learningrate * gradients\n",
    "        y_pred = sigmoid_function(vectorX.dot(theta))\n",
    "        cost_value = - np.sum(y_new*np.log(y_pred)+ ((1-y_new)*np.log(1-y_pred)))/(len(y_pred))\n",
    " #Calculate the loss for each training instance\n",
    "        cost_lst.append(cost_value)\n",
    "    plt.plot(np.arange(1,iterations),cost_lst[1:], color = 'red')\n",
    "    plt.title('Cost function Graph')\n",
    "    plt.xlabel('Number of iterations')\n",
    "    plt.ylabel('Cost')\n",
    "    return theta"
   ]
  },
  {
   "cell_type": "code",
   "execution_count": 6,
   "id": "79b33f79-eb91-4b36-b472-472fbd4bcd26",
   "metadata": {},
   "outputs": [
    {
     "name": "stderr",
     "output_type": "stream",
     "text": [
      "C:\\Users\\coyul\\AppData\\Local\\Temp/ipykernel_12364/3483565925.py:4: DeprecationWarning: `np.int` is a deprecated alias for the builtin `int`. To silence this warning, use `int` by itself. Doing this will not modify any behavior and is safe. When replacing `np.int`, you may wish to use e.g. `np.int64` or `np.int32` to specify the precision. If you wish to review your current use, check the release note link for additional information.\n",
      "Deprecated in NumPy 1.20; for more details and guidance: https://numpy.org/devdocs/release/1.20.0-notes.html#deprecations\n",
      "  y = (iris[\"target\"] == 0).astype(np.int) #return 1 if Iris Versicolor, else 0.\n"
     ]
    }
   ],
   "source": [
    "from sklearn import datasets\n",
    "iris = datasets.load_iris()\n",
    "X = iris[\"data\"]\n",
    "y = (iris[\"target\"] == 0).astype(np.int) #return 1 if Iris Versicolor, else 0."
   ]
  },
  {
   "cell_type": "code",
   "execution_count": 7,
   "id": "2a86613b-87d6-40cf-a9e6-942778eea932",
   "metadata": {},
   "outputs": [],
   "source": [
    "from sklearn.model_selection import train_test_split\n",
    "X_train, X_test, y_train, y_test = train_test_split(X, y, test_size = 0.2, random_state = 0)"
   ]
  },
  {
   "cell_type": "code",
   "execution_count": 8,
   "id": "eb0f8352-e2b2-4f75-9d0e-5b39a60bb92b",
   "metadata": {},
   "outputs": [],
   "source": [
    "from sklearn.preprocessing import StandardScaler\n",
    "sc = StandardScaler()\n",
    "X_train = sc.fit_transform(X_train)\n",
    "X_test = sc.transform(X_test)"
   ]
  },
  {
   "cell_type": "code",
   "execution_count": 10,
   "id": "1e5a7708-0766-45ac-a2e4-4a212f7bea36",
   "metadata": {},
   "outputs": [
    {
     "name": "stdout",
     "output_type": "stream",
     "text": [
      "[[-2.57666425]\n",
      " [-1.41335243]\n",
      " [ 2.02922816]\n",
      " [-1.79788085]\n",
      " [-2.58561963]]\n"
     ]
    },
    {
     "data": {
      "image/png": "[encoded data removed]",
      "text/plain": [
       "<Figure size 432x288 with 1 Axes>"
      ]
     },
     "metadata": {
      "needs_background": "light"
     },
     "output_type": "display_data"
    }
   ],
   "source": [
    "theta = Logistics_Regression(X_train , y_train,0.001,90000)\n",
    "print(theta)"
   ]
  },
  {
   "cell_type": "code",
   "execution_count": 11,
   "id": "05682de2-2fa2-40a1-b344-701dff4add23",
   "metadata": {},
   "outputs": [
    {
     "data": {
      "text/plain": [
       "(array([-11.07402312]),\n",
       " array([[ -1.32289075,   4.23503694, -10.11887281,  -9.22137322]]))"
      ]
     },
     "execution_count": 11,
     "metadata": {},
     "output_type": "execute_result"
    }
   ],
   "source": [
    "from sklearn.linear_model import LogisticRegression\n",
    "classifier = LogisticRegression(random_state = 0, penalty = 'none')\n",
    "classifier.fit(X_train, y_train)\n",
    "classifier.intercept_, classifier.coef_"
   ]
  },
  {
   "cell_type": "code",
   "execution_count": 35,
   "id": "754338d7-0522-42fa-824f-5ebb1d85360f",
   "metadata": {},
   "outputs": [
    {
     "data": {
      "image/png": "[encoded data removed]",
      "text/plain": [
       "<Figure size 432x288 with 1 Axes>"
      ]
     },
     "metadata": {
      "needs_background": "light"
     },
     "output_type": "display_data"
    }
   ],
   "source": [
    "# imports\n",
    "import numpy as np\n",
    "import matplotlib.pyplot as plt\n",
    "import pandas as pd\n",
    "\n",
    "\n",
    "def load_data(path, header):\n",
    "    marks_df = pd.read_csv(path, header=header)\n",
    "    return marks_df\n",
    "\n",
    "\n",
    "if __name__ == \"__main__\":\n",
    "    # load the data from the file\n",
    "    data = load_data(\"marks.txt\", None)\n",
    "\n",
    "    # X = feature values, all the columns except the last column\n",
    "    X = data.iloc[:, :-1]\n",
    "\n",
    "    # y = target values, last column of the data frame\n",
    "    y = data.iloc[:, -1]\n",
    "\n",
    "    # filter out the applicants that got admitted\n",
    "    admitted = data.loc[y == 1]\n",
    "\n",
    "    # filter out the applicants that din't get admission\n",
    "    not_admitted = data.loc[y == 0]\n",
    "\n",
    "    # plots\n",
    "    plt.scatter(admitted.iloc[:, 0], admitted.iloc[:, 1], s=10, label='Admitted')\n",
    "    plt.scatter(not_admitted.iloc[:, 0], not_admitted.iloc[:, 1], s=10, label='Not Admitted')\n",
    "    plt.legend()\n",
    "    plt.show()"
   ]
  },
  {
   "cell_type": "code",
   "execution_count": null,
   "id": "1654de5e-e27b-48ab-b8a8-5fc7cd6485e2",
   "metadata": {},
   "outputs": [],
   "source": []
  }
 ],
 "metadata": {
  "kernelspec": {
   "display_name": "Python 3 (ipykernel)",
   "language": "python",
   "name": "python3"
  },
  "language_info": {
   "codemirror_mode": {
    "name": "ipython",
    "version": 3
   },
   "file_extension": ".py",
   "mimetype": "text/x-python",
   "name": "python",
   "nbconvert_exporter": "python",
   "pygments_lexer": "ipython3",
   "version": "3.8.8"
  }
 },
 "nbformat": 4,
 "nbformat_minor": 5
}
