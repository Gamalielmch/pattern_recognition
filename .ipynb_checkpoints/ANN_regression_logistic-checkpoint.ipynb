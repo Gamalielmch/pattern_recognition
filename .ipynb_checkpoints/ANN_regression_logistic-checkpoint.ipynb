{
 "cells": [
  {
   "cell_type": "code",
   "execution_count": null,
   "id": "6023d8a7",
   "metadata": {},
   "outputs": [],
   "source": [
    "import numpy as np\n",
    "import pandas as pd\n",
    "import matplotlib.pyplot as plt\n",
    "\n",
    "plt.style.use('ggplot')\n",
    "\n",
    "import tensorflow as tf\n",
    "from sklearn.datasets import load_iris\n",
    "from sklearn.model_selection import train_test_split\n",
    "from sklearn.preprocessing import OneHotEncoder, StandardScaler\n",
    "\n",
    "import warnings\n",
    "warnings.simplefilter(action='ignore', category=FutureWarning)\n",
    "warnings.simplefilter(action='ignore', category=DeprecationWarning)\n",
    "\n",
    "from keras.models import Sequential\n",
    "from keras.layers import Dense\n",
    "from keras.callbacks import TensorBoard\n",
    "from datetime import datetime\n",
    "\n"
   ]
  },
  {
   "cell_type": "code",
   "execution_count": null,
   "id": "ca018313",
   "metadata": {},
   "outputs": [],
   "source": [
    "## Data preparation \n",
    "iris = load_iris()\n",
    "Xraw = iris['data']\n",
    "X=Xraw[:,2:4]\n",
    "y = iris['target']\n",
    "names = iris['target_names']\n",
    "feature_names = iris['feature_names']\n",
    "# One hot encoding\n",
    "enc = OneHotEncoder()\n",
    "Y = enc.fit_transform(y[:, np.newaxis]).toarray()\n",
    "\n",
    "# Scale data to have mean 0 and variance 1 \n",
    "# which is importance for convergence of the neural network\n",
    "scaler = StandardScaler()\n",
    "X_scaled = scaler.fit_transform(X)\n",
    "\n",
    "# Split the data set into training and testing\n",
    "X_train, X_test, y_train, y_test = train_test_split(\n",
    "    X_scaled, Y, test_size=0.2, random_state=2)\n",
    "\n",
    "\n",
    "n_features = X.shape[1]\n",
    "n_classes = Y.shape[1]"
   ]
  },
  {
   "cell_type": "code",
   "execution_count": null,
   "id": "7ed6c5e3",
   "metadata": {},
   "outputs": [],
   "source": [
    "# Visualize the data sets\n",
    "plt.figure(figsize=(16, 6))\n",
    "plt.subplot(1, 2, 1)\n",
    "for target, target_name in enumerate(names):\n",
    "    X_plot = X[y == target]\n",
    "    plt.plot(X_plot[:, 0], X_plot[:, 1], linestyle='none', marker='o', label=target_name)\n",
    "plt.xlabel(feature_names[0])\n",
    "plt.ylabel(feature_names[1])\n",
    "plt.axis('equal')\n",
    "plt.legend();"
   ]
  },
  {
   "cell_type": "code",
   "execution_count": null,
   "id": "82dcccb8",
   "metadata": {},
   "outputs": [],
   "source": [
    "model = Sequential([Dense(8, input_dim=n_features, activation='sigmoid'),\n",
    "                    #Dense(8, activation='sigmoid'),\n",
    "                    Dense(n_classes, activation='softmax')],\n",
    "                    name='ANN')\n",
    "model.compile(loss='mean_squared_error', \n",
    "                      optimizer='adam', \n",
    "                      metrics=['accuracy'])\n",
    "model.summary();"
   ]
  },
  {
   "cell_type": "code",
   "execution_count": null,
   "id": "b329e4ce",
   "metadata": {},
   "outputs": [],
   "source": [
    "\n",
    "log_dir = \"logs/fit/\" + datetime.now().strftime(\"%Y%m%d-%H%M%S\")\n",
    "tensorboard_callback = tf.keras.callbacks.TensorBoard(log_dir=log_dir, histogram_freq=1)\n",
    "\n",
    "\n",
    "\n",
    "print('Model name:', model.name)\n",
    "history_callback = model.fit(X_train, y_train,\n",
    "                                 batch_size=7,\n",
    "                                 epochs=100,\n",
    "                                 verbose=1,\n",
    "                                 validation_data=(X_test, y_test),\n",
    "                                 callbacks=[tensorboard_callback])\n",
    "score = model.evaluate(X_test, y_test, verbose=0)\n",
    "print('Test loss:', score[0])\n",
    "print('Test accuracy:', score[1])\n",
    "history_dict = {}    \n",
    "history_dict[model.name] = [history_callback, model]"
   ]
  },
  {
   "cell_type": "code",
   "execution_count": null,
   "id": "fed805bc",
   "metadata": {},
   "outputs": [],
   "source": [
    "fig, (ax1, ax2) = plt.subplots(2, figsize=(8, 6))\n",
    "\n",
    "for model_name in history_dict:\n",
    "    trn_acc = history_dict[model_name][0].history['accuracy']\n",
    "    val_acc = history_dict[model_name][0].history['val_accuracy']\n",
    "    trn_loss = history_dict[model_name][0].history['loss']\n",
    "    val_loss = history_dict[model_name][0].history['val_loss']\n",
    "    ax1.plot(trn_acc, label=\"Train \"+ model_name)\n",
    "    ax1.plot(val_acc, label=\"Validation \"+model_name)\n",
    "    ax2.plot(trn_loss, label=\"Train \"+ model_name)\n",
    "    ax2.plot(val_loss, label=\"Validation \" + model_name)\n",
    "    \n",
    "ax1.set_ylabel('Accuracy')\n",
    "ax2.set_ylabel('Loss')\n",
    "ax2.set_xlabel('epochs')\n",
    "ax1.legend()\n",
    "ax2.legend();"
   ]
  },
  {
   "cell_type": "code",
   "execution_count": null,
   "id": "043511e9",
   "metadata": {},
   "outputs": [],
   "source": [
    "# X_train\n",
    "XX=X_scaled*1\n",
    "YY=Y\n",
    "\n",
    "XX=X_train*1\n",
    "YY=y_train\n",
    "x_min, x_max = XX[:, 0].min() - .5, XX[:, 0].max() + .5\n",
    "y_min, y_max = XX[:, 1].min() - .5, XX[:, 1].max() + .5\n",
    "h = .01  # step size in the mesh\n",
    "xx, yy = np.meshgrid(np.arange(x_min, x_max, h), np.arange(y_min, y_max, h))\n",
    "sD=(np.c_[xx.ravel(), yy.ravel()])\n",
    "Z = np.argmax(model.predict(sD), axis=-1)\n",
    "#Z = model.predict_classes(np.c_[xx.ravel(), yy.ravel()])\n",
    "# Put the result into a color plot\n",
    "Z = Z.reshape(xx.shape)\n",
    "plt.figure(1, figsize=(7, 6))\n",
    "plt.pcolormesh(xx, yy, Z, cmap=plt.cm.Paired,shading='auto')\n",
    "# Plot also the training points\n",
    "plt.scatter(XX[:, 0], XX[:, 1], c=YY, edgecolors='k', cmap=plt.cm.Paired)\n",
    "plt.xlabel(feature_names[0])\n",
    "plt.ylabel(feature_names[1])\n",
    "\n",
    "plt.xlim(xx.min(), xx.max())\n",
    "plt.ylim(yy.min(), yy.max())\n",
    "plt.xticks(())\n",
    "plt.yticks(())\n",
    "\n",
    "plt.show()"
   ]
  },
  {
   "cell_type": "code",
   "execution_count": null,
   "id": "88e89682",
   "metadata": {},
   "outputs": [],
   "source": [
    "print(YY.shape)"
   ]
  },
  {
   "cell_type": "code",
   "execution_count": null,
   "id": "15279096-623b-403f-936c-f1e0133ccbb8",
   "metadata": {},
   "outputs": [],
   "source": []
  }
 ],
 "metadata": {
  "kernelspec": {
   "display_name": "Python 3 (ipykernel)",
   "language": "python",
   "name": "python3"
  },
  "language_info": {
   "codemirror_mode": {
    "name": "ipython",
    "version": 3
   },
   "file_extension": ".py",
   "mimetype": "text/x-python",
   "name": "python",
   "nbconvert_exporter": "python",
   "pygments_lexer": "ipython3",
   "version": "3.8.8"
  }
 },
 "nbformat": 4,
 "nbformat_minor": 5
}
